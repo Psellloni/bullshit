{
  "cells": [
    {
      "cell_type": "markdown",
      "metadata": {
        "id": "kvkgktk9EUut"
      },
      "source": [
        "Get data from github"
      ]
    },
    {
      "cell_type": "code",
      "execution_count": null,
      "metadata": {},
      "outputs": [],
      "source": [
        "!wget https://raw.githubusercontent.com/Psellloni/bullshit/main/bert_classifier.py\n",
        "!wget https://raw.githubusercontent.com/Psellloni/bullshit/main/bert_dataset.py\n",
        "!wget https://raw.githubusercontent.com/Psellloni/bullshit/main/requirements.txt\n",
        "!wget https://raw.githubusercontent.com/Psellloni/bullshit/main/data/pyt_dataset_1.csv\n",
        "!wget https://raw.githubusercontent.com/Psellloni/bullshit/main/data/pyt_dataset_2.csv\n",
        "!wget https://raw.githubusercontent.com/Psellloni/bullshit/main/data/pyt_dataset_3.csv\n",
        "!wget https://raw.githubusercontent.com/Psellloni/bullshit/main/data/pyt_dataset_4.csv"
      ]
    },
    {
      "cell_type": "markdown",
      "metadata": {
        "id": "JasJclP8E3qG"
      },
      "source": [
        "Installing Packages"
      ]
    },
    {
      "cell_type": "code",
      "execution_count": 1,
      "metadata": {
        "colab": {
          "base_uri": "https://localhost:8080/"
        },
        "id": "ASlmsIsJE4L2",
        "outputId": "61f635ac-1c15-4d6b-9556-6acc4c8c353d"
      },
      "outputs": [
        {
          "name": "stdout",
          "output_type": "stream",
          "text": [
            "Collecting torch==1.11.0 (from -r requirements.txt (line 1))\n",
            "  Using cached torch-1.11.0-cp39-none-macosx_10_9_x86_64.whl.metadata (24 kB)\n",
            "Collecting sentencepiece==0.1.95 (from -r requirements.txt (line 2))\n",
            "  Using cached sentencepiece-0.1.95-cp39-cp39-macosx_10_6_x86_64.whl.metadata (10 kB)\n",
            "Collecting transformers==4.5.1 (from -r requirements.txt (line 3))\n",
            "  Using cached transformers-4.5.1-py3-none-any.whl.metadata (41 kB)\n",
            "Collecting pandas==1.1.5 (from -r requirements.txt (line 4))\n",
            "  Using cached pandas-1.1.5-cp39-cp39-macosx_10_9_x86_64.whl.metadata (4.7 kB)\n",
            "Collecting numpy==1.19.5 (from -r requirements.txt (line 5))\n",
            "  Using cached numpy-1.19.5-cp39-cp39-macosx_10_9_x86_64.whl.metadata (2.0 kB)\n",
            "Collecting scikit-learn==0.9 (from -r requirements.txt (line 6))\n",
            "  Using cached scikit-learn-0.9.tar.gz (2.3 MB)\n",
            "  Preparing metadata (setup.py) ... \u001b[?25lerror\n",
            "  \u001b[1;31merror\u001b[0m: \u001b[1msubprocess-exited-with-error\u001b[0m\n",
            "  \n",
            "  \u001b[31m×\u001b[0m \u001b[32mpython setup.py egg_info\u001b[0m did not run successfully.\n",
            "  \u001b[31m│\u001b[0m exit code: \u001b[1;36m1\u001b[0m\n",
            "  \u001b[31m╰─>\u001b[0m \u001b[31m[422 lines of output]\u001b[0m\n",
            "  \u001b[31m   \u001b[0m Copying source tree into build/py3k for 2to3 transformation...\n",
            "  \u001b[31m   \u001b[0m Converting to Python3 via 2to3...\n",
            "  \u001b[31m   \u001b[0m RefactoringTool: Skipping optional fixer: buffer\n",
            "  \u001b[31m   \u001b[0m RefactoringTool: Skipping optional fixer: idioms\n",
            "  \u001b[31m   \u001b[0m RefactoringTool: Skipping optional fixer: set_literal\n",
            "  \u001b[31m   \u001b[0m RefactoringTool: Skipping optional fixer: ws_comma\n",
            "  \u001b[31m   \u001b[0m RefactoringTool: No changes to /private/var/folders/xy/l79zrv_j6b7123v2mqf72pzw0000gp/T/pip-install-kt5xg1k7/scikit-learn_c1d43ac8a4e24053b4540611ca1e9cff/build/py3k/sklearn/__init__.py\n",
            "  \u001b[31m   \u001b[0m RefactoringTool: No changes to /private/var/folders/xy/l79zrv_j6b7123v2mqf72pzw0000gp/T/pip-install-kt5xg1k7/scikit-learn_c1d43ac8a4e24053b4540611ca1e9cff/build/py3k/sklearn/ball_tree.py\n",
            "  \u001b[31m   \u001b[0m RefactoringTool: Refactored /private/var/folders/xy/l79zrv_j6b7123v2mqf72pzw0000gp/T/pip-install-kt5xg1k7/scikit-learn_c1d43ac8a4e24053b4540611ca1e9cff/build/py3k/sklearn/base.py\n",
            "  \u001b[31m   \u001b[0m RefactoringTool: No changes to /private/var/folders/xy/l79zrv_j6b7123v2mqf72pzw0000gp/T/pip-install-kt5xg1k7/scikit-learn_c1d43ac8a4e24053b4540611ca1e9cff/build/py3k/sklearn/cross_val.py\n",
            "  \u001b[31m   \u001b[0m RefactoringTool: Refactored /private/var/folders/xy/l79zrv_j6b7123v2mqf72pzw0000gp/T/pip-install-kt5xg1k7/scikit-learn_c1d43ac8a4e24053b4540611ca1e9cff/build/py3k/sklearn/cross_validation.py\n",
            "  \u001b[31m   \u001b[0m RefactoringTool: Refactored /private/var/folders/xy/l79zrv_j6b7123v2mqf72pzw0000gp/T/pip-install-kt5xg1k7/scikit-learn_c1d43ac8a4e24053b4540611ca1e9cff/build/py3k/sklearn/grid_search.py\n",
            "  \u001b[31m   \u001b[0m RefactoringTool: Refactored /private/var/folders/xy/l79zrv_j6b7123v2mqf72pzw0000gp/T/pip-install-kt5xg1k7/scikit-learn_c1d43ac8a4e24053b4540611ca1e9cff/build/py3k/sklearn/hmm.py\n",
            "  \u001b[31m   \u001b[0m RefactoringTool: Refactored /private/var/folders/xy/l79zrv_j6b7123v2mqf72pzw0000gp/T/pip-install-kt5xg1k7/scikit-learn_c1d43ac8a4e24053b4540611ca1e9cff/build/py3k/sklearn/lda.py\n",
            "  \u001b[31m   \u001b[0m RefactoringTool: Refactored /private/var/folders/xy/l79zrv_j6b7123v2mqf72pzw0000gp/T/pip-install-kt5xg1k7/scikit-learn_c1d43ac8a4e24053b4540611ca1e9cff/build/py3k/sklearn/multiclass.py\n",
            "  \u001b[31m   \u001b[0m RefactoringTool: Refactored /private/var/folders/xy/l79zrv_j6b7123v2mqf72pzw0000gp/T/pip-install-kt5xg1k7/scikit-learn_c1d43ac8a4e24053b4540611ca1e9cff/build/py3k/sklearn/naive_bayes.py\n",
            "  \u001b[31m   \u001b[0m RefactoringTool: Refactored /private/var/folders/xy/l79zrv_j6b7123v2mqf72pzw0000gp/T/pip-install-kt5xg1k7/scikit-learn_c1d43ac8a4e24053b4540611ca1e9cff/build/py3k/sklearn/pipeline.py\n",
            "  \u001b[31m   \u001b[0m RefactoringTool: Refactored /private/var/folders/xy/l79zrv_j6b7123v2mqf72pzw0000gp/T/pip-install-kt5xg1k7/scikit-learn_c1d43ac8a4e24053b4540611ca1e9cff/build/py3k/sklearn/pls.py\n",
            "  \u001b[31m   \u001b[0m RefactoringTool: No changes to /private/var/folders/xy/l79zrv_j6b7123v2mqf72pzw0000gp/T/pip-install-kt5xg1k7/scikit-learn_c1d43ac8a4e24053b4540611ca1e9cff/build/py3k/sklearn/qda.py\n",
            "  \u001b[31m   \u001b[0m RefactoringTool: No changes to /private/var/folders/xy/l79zrv_j6b7123v2mqf72pzw0000gp/T/pip-install-kt5xg1k7/scikit-learn_c1d43ac8a4e24053b4540611ca1e9cff/build/py3k/sklearn/setup.py\n",
            "  \u001b[31m   \u001b[0m RefactoringTool: No changes to /private/var/folders/xy/l79zrv_j6b7123v2mqf72pzw0000gp/T/pip-install-kt5xg1k7/scikit-learn_c1d43ac8a4e24053b4540611ca1e9cff/build/py3k/sklearn/check_build/setup.py\n",
            "  \u001b[31m   \u001b[0m RefactoringTool: No changes to /private/var/folders/xy/l79zrv_j6b7123v2mqf72pzw0000gp/T/pip-install-kt5xg1k7/scikit-learn_c1d43ac8a4e24053b4540611ca1e9cff/build/py3k/sklearn/cluster/__init__.py\n",
            "  \u001b[31m   \u001b[0m RefactoringTool: No changes to /private/var/folders/xy/l79zrv_j6b7123v2mqf72pzw0000gp/T/pip-install-kt5xg1k7/scikit-learn_c1d43ac8a4e24053b4540611ca1e9cff/build/py3k/sklearn/cluster/_feature_agglomeration.py\n",
            "  \u001b[31m   \u001b[0m RefactoringTool: Refactored /private/var/folders/xy/l79zrv_j6b7123v2mqf72pzw0000gp/T/pip-install-kt5xg1k7/scikit-learn_c1d43ac8a4e24053b4540611ca1e9cff/build/py3k/sklearn/cluster/affinity_propagation_.py\n",
            "  \u001b[31m   \u001b[0m RefactoringTool: No changes to /private/var/folders/xy/l79zrv_j6b7123v2mqf72pzw0000gp/T/pip-install-kt5xg1k7/scikit-learn_c1d43ac8a4e24053b4540611ca1e9cff/build/py3k/sklearn/cluster/dbscan_.py\n",
            "  \u001b[31m   \u001b[0m RefactoringTool: Refactored /private/var/folders/xy/l79zrv_j6b7123v2mqf72pzw0000gp/T/pip-install-kt5xg1k7/scikit-learn_c1d43ac8a4e24053b4540611ca1e9cff/build/py3k/sklearn/cluster/hierarchical.py\n",
            "  \u001b[31m   \u001b[0m RefactoringTool: Refactored /private/var/folders/xy/l79zrv_j6b7123v2mqf72pzw0000gp/T/pip-install-kt5xg1k7/scikit-learn_c1d43ac8a4e24053b4540611ca1e9cff/build/py3k/sklearn/cluster/k_means_.py\n",
            "  \u001b[31m   \u001b[0m RefactoringTool: Refactored /private/var/folders/xy/l79zrv_j6b7123v2mqf72pzw0000gp/T/pip-install-kt5xg1k7/scikit-learn_c1d43ac8a4e24053b4540611ca1e9cff/build/py3k/sklearn/cluster/mean_shift_.py\n",
            "  \u001b[31m   \u001b[0m RefactoringTool: No changes to /private/var/folders/xy/l79zrv_j6b7123v2mqf72pzw0000gp/T/pip-install-kt5xg1k7/scikit-learn_c1d43ac8a4e24053b4540611ca1e9cff/build/py3k/sklearn/cluster/setup.py\n",
            "  \u001b[31m   \u001b[0m RefactoringTool: No changes to /private/var/folders/xy/l79zrv_j6b7123v2mqf72pzw0000gp/T/pip-install-kt5xg1k7/scikit-learn_c1d43ac8a4e24053b4540611ca1e9cff/build/py3k/sklearn/cluster/spectral.py\n",
            "  \u001b[31m   \u001b[0m RefactoringTool: No changes to /private/var/folders/xy/l79zrv_j6b7123v2mqf72pzw0000gp/T/pip-install-kt5xg1k7/scikit-learn_c1d43ac8a4e24053b4540611ca1e9cff/build/py3k/sklearn/cluster/tests/common.py\n",
            "  \u001b[31m   \u001b[0m RefactoringTool: No changes to /private/var/folders/xy/l79zrv_j6b7123v2mqf72pzw0000gp/T/pip-install-kt5xg1k7/scikit-learn_c1d43ac8a4e24053b4540611ca1e9cff/build/py3k/sklearn/cluster/tests/test_affinity_propagation.py\n",
            "  \u001b[31m   \u001b[0m RefactoringTool: No changes to /private/var/folders/xy/l79zrv_j6b7123v2mqf72pzw0000gp/T/pip-install-kt5xg1k7/scikit-learn_c1d43ac8a4e24053b4540611ca1e9cff/build/py3k/sklearn/cluster/tests/test_dbscan.py\n",
            "  \u001b[31m   \u001b[0m RefactoringTool: No changes to /private/var/folders/xy/l79zrv_j6b7123v2mqf72pzw0000gp/T/pip-install-kt5xg1k7/scikit-learn_c1d43ac8a4e24053b4540611ca1e9cff/build/py3k/sklearn/cluster/tests/test_hierarchical.py\n",
            "  \u001b[31m   \u001b[0m RefactoringTool: No changes to /private/var/folders/xy/l79zrv_j6b7123v2mqf72pzw0000gp/T/pip-install-kt5xg1k7/scikit-learn_c1d43ac8a4e24053b4540611ca1e9cff/build/py3k/sklearn/cluster/tests/test_k_means.py\n",
            "  \u001b[31m   \u001b[0m RefactoringTool: No changes to /private/var/folders/xy/l79zrv_j6b7123v2mqf72pzw0000gp/T/pip-install-kt5xg1k7/scikit-learn_c1d43ac8a4e24053b4540611ca1e9cff/build/py3k/sklearn/cluster/tests/test_mean_shift.py\n",
            "  \u001b[31m   \u001b[0m RefactoringTool: Refactored /private/var/folders/xy/l79zrv_j6b7123v2mqf72pzw0000gp/T/pip-install-kt5xg1k7/scikit-learn_c1d43ac8a4e24053b4540611ca1e9cff/build/py3k/sklearn/cluster/tests/test_spectral.py\n",
            "  \u001b[31m   \u001b[0m RefactoringTool: No changes to /private/var/folders/xy/l79zrv_j6b7123v2mqf72pzw0000gp/T/pip-install-kt5xg1k7/scikit-learn_c1d43ac8a4e24053b4540611ca1e9cff/build/py3k/sklearn/covariance/__init__.py\n",
            "  \u001b[31m   \u001b[0m RefactoringTool: Refactored /private/var/folders/xy/l79zrv_j6b7123v2mqf72pzw0000gp/T/pip-install-kt5xg1k7/scikit-learn_c1d43ac8a4e24053b4540611ca1e9cff/build/py3k/sklearn/covariance/empirical_covariance_.py\n",
            "  \u001b[31m   \u001b[0m RefactoringTool: Refactored /private/var/folders/xy/l79zrv_j6b7123v2mqf72pzw0000gp/T/pip-install-kt5xg1k7/scikit-learn_c1d43ac8a4e24053b4540611ca1e9cff/build/py3k/sklearn/covariance/shrunk_covariance_.py\n",
            "  \u001b[31m   \u001b[0m RefactoringTool: No changes to /private/var/folders/xy/l79zrv_j6b7123v2mqf72pzw0000gp/T/pip-install-kt5xg1k7/scikit-learn_c1d43ac8a4e24053b4540611ca1e9cff/build/py3k/sklearn/covariance/tests/test_covariance.py\n",
            "  \u001b[31m   \u001b[0m RefactoringTool: No changes to /private/var/folders/xy/l79zrv_j6b7123v2mqf72pzw0000gp/T/pip-install-kt5xg1k7/scikit-learn_c1d43ac8a4e24053b4540611ca1e9cff/build/py3k/sklearn/datasets/__init__.py\n",
            "  \u001b[31m   \u001b[0m RefactoringTool: Refactored /private/var/folders/xy/l79zrv_j6b7123v2mqf72pzw0000gp/T/pip-install-kt5xg1k7/scikit-learn_c1d43ac8a4e24053b4540611ca1e9cff/build/py3k/sklearn/datasets/base.py\n",
            "  \u001b[31m   \u001b[0m RefactoringTool: Refactored /private/var/folders/xy/l79zrv_j6b7123v2mqf72pzw0000gp/T/pip-install-kt5xg1k7/scikit-learn_c1d43ac8a4e24053b4540611ca1e9cff/build/py3k/sklearn/datasets/lfw.py\n",
            "  \u001b[31m   \u001b[0m RefactoringTool: No changes to /private/var/folders/xy/l79zrv_j6b7123v2mqf72pzw0000gp/T/pip-install-kt5xg1k7/scikit-learn_c1d43ac8a4e24053b4540611ca1e9cff/build/py3k/sklearn/datasets/mlcomp.py\n",
            "  \u001b[31m   \u001b[0m RefactoringTool: Refactored /private/var/folders/xy/l79zrv_j6b7123v2mqf72pzw0000gp/T/pip-install-kt5xg1k7/scikit-learn_c1d43ac8a4e24053b4540611ca1e9cff/build/py3k/sklearn/datasets/mldata.py\n",
            "  \u001b[31m   \u001b[0m RefactoringTool: Refactored /private/var/folders/xy/l79zrv_j6b7123v2mqf72pzw0000gp/T/pip-install-kt5xg1k7/scikit-learn_c1d43ac8a4e24053b4540611ca1e9cff/build/py3k/sklearn/datasets/olivetti_faces.py\n",
            "  \u001b[31m   \u001b[0m RefactoringTool: Refactored /private/var/folders/xy/l79zrv_j6b7123v2mqf72pzw0000gp/T/pip-install-kt5xg1k7/scikit-learn_c1d43ac8a4e24053b4540611ca1e9cff/build/py3k/sklearn/datasets/samples_generator.py\n",
            "  \u001b[31m   \u001b[0m RefactoringTool: No changes to /private/var/folders/xy/l79zrv_j6b7123v2mqf72pzw0000gp/T/pip-install-kt5xg1k7/scikit-learn_c1d43ac8a4e24053b4540611ca1e9cff/build/py3k/sklearn/datasets/setup.py\n",
            "  \u001b[31m   \u001b[0m RefactoringTool: No changes to /private/var/folders/xy/l79zrv_j6b7123v2mqf72pzw0000gp/T/pip-install-kt5xg1k7/scikit-learn_c1d43ac8a4e24053b4540611ca1e9cff/build/py3k/sklearn/datasets/svmlight_format.py\n",
            "  \u001b[31m   \u001b[0m RefactoringTool: Refactored /private/var/folders/xy/l79zrv_j6b7123v2mqf72pzw0000gp/T/pip-install-kt5xg1k7/scikit-learn_c1d43ac8a4e24053b4540611ca1e9cff/build/py3k/sklearn/datasets/twenty_newsgroups.py\n",
            "  \u001b[31m   \u001b[0m RefactoringTool: No changes to /private/var/folders/xy/l79zrv_j6b7123v2mqf72pzw0000gp/T/pip-install-kt5xg1k7/scikit-learn_c1d43ac8a4e24053b4540611ca1e9cff/build/py3k/sklearn/datasets/tests/test_20news.py\n",
            "  \u001b[31m   \u001b[0m RefactoringTool: No changes to /private/var/folders/xy/l79zrv_j6b7123v2mqf72pzw0000gp/T/pip-install-kt5xg1k7/scikit-learn_c1d43ac8a4e24053b4540611ca1e9cff/build/py3k/sklearn/datasets/tests/test_base.py\n",
            "  \u001b[31m   \u001b[0m RefactoringTool: Refactored /private/var/folders/xy/l79zrv_j6b7123v2mqf72pzw0000gp/T/pip-install-kt5xg1k7/scikit-learn_c1d43ac8a4e24053b4540611ca1e9cff/build/py3k/sklearn/datasets/tests/test_lfw.py\n",
            "  \u001b[31m   \u001b[0m RefactoringTool: No changes to /private/var/folders/xy/l79zrv_j6b7123v2mqf72pzw0000gp/T/pip-install-kt5xg1k7/scikit-learn_c1d43ac8a4e24053b4540611ca1e9cff/build/py3k/sklearn/datasets/tests/test_mldata.py\n",
            "  \u001b[31m   \u001b[0m RefactoringTool: No changes to /private/var/folders/xy/l79zrv_j6b7123v2mqf72pzw0000gp/T/pip-install-kt5xg1k7/scikit-learn_c1d43ac8a4e24053b4540611ca1e9cff/build/py3k/sklearn/datasets/tests/test_samples_generator.py\n",
            "  \u001b[31m   \u001b[0m RefactoringTool: No changes to /private/var/folders/xy/l79zrv_j6b7123v2mqf72pzw0000gp/T/pip-install-kt5xg1k7/scikit-learn_c1d43ac8a4e24053b4540611ca1e9cff/build/py3k/sklearn/datasets/tests/test_svmlight_format.py\n",
            "  \u001b[31m   \u001b[0m RefactoringTool: No changes to /private/var/folders/xy/l79zrv_j6b7123v2mqf72pzw0000gp/T/pip-install-kt5xg1k7/scikit-learn_c1d43ac8a4e24053b4540611ca1e9cff/build/py3k/sklearn/decomposition/__init__.py\n",
            "  \u001b[31m   \u001b[0m RefactoringTool: Refactored /private/var/folders/xy/l79zrv_j6b7123v2mqf72pzw0000gp/T/pip-install-kt5xg1k7/scikit-learn_c1d43ac8a4e24053b4540611ca1e9cff/build/py3k/sklearn/decomposition/dict_learning.py\n",
            "  \u001b[31m   \u001b[0m RefactoringTool: Refactored /private/var/folders/xy/l79zrv_j6b7123v2mqf72pzw0000gp/T/pip-install-kt5xg1k7/scikit-learn_c1d43ac8a4e24053b4540611ca1e9cff/build/py3k/sklearn/decomposition/fastica_.py\n",
            "  \u001b[31m   \u001b[0m RefactoringTool: No changes to /private/var/folders/xy/l79zrv_j6b7123v2mqf72pzw0000gp/T/pip-install-kt5xg1k7/scikit-learn_c1d43ac8a4e24053b4540611ca1e9cff/build/py3k/sklearn/decomposition/kernel_pca.py\n",
            "  \u001b[31m   \u001b[0m RefactoringTool: Refactored /private/var/folders/xy/l79zrv_j6b7123v2mqf72pzw0000gp/T/pip-install-kt5xg1k7/scikit-learn_c1d43ac8a4e24053b4540611ca1e9cff/build/py3k/sklearn/decomposition/nmf.py\n",
            "  \u001b[31m   \u001b[0m RefactoringTool: No changes to /private/var/folders/xy/l79zrv_j6b7123v2mqf72pzw0000gp/T/pip-install-kt5xg1k7/scikit-learn_c1d43ac8a4e24053b4540611ca1e9cff/build/py3k/sklearn/decomposition/pca.py\n",
            "  \u001b[31m   \u001b[0m RefactoringTool: No changes to /private/var/folders/xy/l79zrv_j6b7123v2mqf72pzw0000gp/T/pip-install-kt5xg1k7/scikit-learn_c1d43ac8a4e24053b4540611ca1e9cff/build/py3k/sklearn/decomposition/sparse_pca.py\n",
            "  \u001b[31m   \u001b[0m RefactoringTool: No changes to /private/var/folders/xy/l79zrv_j6b7123v2mqf72pzw0000gp/T/pip-install-kt5xg1k7/scikit-learn_c1d43ac8a4e24053b4540611ca1e9cff/build/py3k/sklearn/decomposition/tests/test_dict_learning.py\n",
            "  \u001b[31m   \u001b[0m RefactoringTool: No changes to /private/var/folders/xy/l79zrv_j6b7123v2mqf72pzw0000gp/T/pip-install-kt5xg1k7/scikit-learn_c1d43ac8a4e24053b4540611ca1e9cff/build/py3k/sklearn/decomposition/tests/test_fastica.py\n",
            "  \u001b[31m   \u001b[0m RefactoringTool: No changes to /private/var/folders/xy/l79zrv_j6b7123v2mqf72pzw0000gp/T/pip-install-kt5xg1k7/scikit-learn_c1d43ac8a4e24053b4540611ca1e9cff/build/py3k/sklearn/decomposition/tests/test_kernel_pca.py\n",
            "  \u001b[31m   \u001b[0m RefactoringTool: Refactored /private/var/folders/xy/l79zrv_j6b7123v2mqf72pzw0000gp/T/pip-install-kt5xg1k7/scikit-learn_c1d43ac8a4e24053b4540611ca1e9cff/build/py3k/sklearn/decomposition/tests/test_nmf.py\n",
            "  \u001b[31m   \u001b[0m RefactoringTool: No changes to /private/var/folders/xy/l79zrv_j6b7123v2mqf72pzw0000gp/T/pip-install-kt5xg1k7/scikit-learn_c1d43ac8a4e24053b4540611ca1e9cff/build/py3k/sklearn/decomposition/tests/test_pca.py\n",
            "  \u001b[31m   \u001b[0m RefactoringTool: No changes to /private/var/folders/xy/l79zrv_j6b7123v2mqf72pzw0000gp/T/pip-install-kt5xg1k7/scikit-learn_c1d43ac8a4e24053b4540611ca1e9cff/build/py3k/sklearn/decomposition/tests/test_sparse_pca.py\n",
            "  \u001b[31m   \u001b[0m RefactoringTool: No changes to /private/var/folders/xy/l79zrv_j6b7123v2mqf72pzw0000gp/T/pip-install-kt5xg1k7/scikit-learn_c1d43ac8a4e24053b4540611ca1e9cff/build/py3k/sklearn/externals/__init__.py\n",
            "  \u001b[31m   \u001b[0m RefactoringTool: No changes to /private/var/folders/xy/l79zrv_j6b7123v2mqf72pzw0000gp/T/pip-install-kt5xg1k7/scikit-learn_c1d43ac8a4e24053b4540611ca1e9cff/build/py3k/sklearn/externals/setup.py\n",
            "  \u001b[31m   \u001b[0m RefactoringTool: No changes to /private/var/folders/xy/l79zrv_j6b7123v2mqf72pzw0000gp/T/pip-install-kt5xg1k7/scikit-learn_c1d43ac8a4e24053b4540611ca1e9cff/build/py3k/sklearn/externals/test_externals_setup.py\n",
            "  \u001b[31m   \u001b[0m RefactoringTool: No changes to /private/var/folders/xy/l79zrv_j6b7123v2mqf72pzw0000gp/T/pip-install-kt5xg1k7/scikit-learn_c1d43ac8a4e24053b4540611ca1e9cff/build/py3k/sklearn/externals/joblib/__init__.py\n",
            "  \u001b[31m   \u001b[0m RefactoringTool: Refactored /private/var/folders/xy/l79zrv_j6b7123v2mqf72pzw0000gp/T/pip-install-kt5xg1k7/scikit-learn_c1d43ac8a4e24053b4540611ca1e9cff/build/py3k/sklearn/externals/joblib/disk.py\n",
            "  \u001b[31m   \u001b[0m RefactoringTool: Refactored /private/var/folders/xy/l79zrv_j6b7123v2mqf72pzw0000gp/T/pip-install-kt5xg1k7/scikit-learn_c1d43ac8a4e24053b4540611ca1e9cff/build/py3k/sklearn/externals/joblib/format_stack.py\n",
            "  \u001b[31m   \u001b[0m RefactoringTool: Refactored /private/var/folders/xy/l79zrv_j6b7123v2mqf72pzw0000gp/T/pip-install-kt5xg1k7/scikit-learn_c1d43ac8a4e24053b4540611ca1e9cff/build/py3k/sklearn/externals/joblib/func_inspect.py\n",
            "  \u001b[31m   \u001b[0m RefactoringTool: Refactored /private/var/folders/xy/l79zrv_j6b7123v2mqf72pzw0000gp/T/pip-install-kt5xg1k7/scikit-learn_c1d43ac8a4e24053b4540611ca1e9cff/build/py3k/sklearn/externals/joblib/hashing.py\n",
            "  \u001b[31m   \u001b[0m RefactoringTool: Refactored /private/var/folders/xy/l79zrv_j6b7123v2mqf72pzw0000gp/T/pip-install-kt5xg1k7/scikit-learn_c1d43ac8a4e24053b4540611ca1e9cff/build/py3k/sklearn/externals/joblib/logger.py\n",
            "  \u001b[31m   \u001b[0m RefactoringTool: Refactored /private/var/folders/xy/l79zrv_j6b7123v2mqf72pzw0000gp/T/pip-install-kt5xg1k7/scikit-learn_c1d43ac8a4e24053b4540611ca1e9cff/build/py3k/sklearn/externals/joblib/memory.py\n",
            "  \u001b[31m   \u001b[0m RefactoringTool: Refactored /private/var/folders/xy/l79zrv_j6b7123v2mqf72pzw0000gp/T/pip-install-kt5xg1k7/scikit-learn_c1d43ac8a4e24053b4540611ca1e9cff/build/py3k/sklearn/externals/joblib/my_exceptions.py\n",
            "  \u001b[31m   \u001b[0m RefactoringTool: Refactored /private/var/folders/xy/l79zrv_j6b7123v2mqf72pzw0000gp/T/pip-install-kt5xg1k7/scikit-learn_c1d43ac8a4e24053b4540611ca1e9cff/build/py3k/sklearn/externals/joblib/numpy_pickle.py\n",
            "  \u001b[31m   \u001b[0m RefactoringTool: Refactored /private/var/folders/xy/l79zrv_j6b7123v2mqf72pzw0000gp/T/pip-install-kt5xg1k7/scikit-learn_c1d43ac8a4e24053b4540611ca1e9cff/build/py3k/sklearn/externals/joblib/parallel.py\n",
            "  \u001b[31m   \u001b[0m RefactoringTool: No changes to /private/var/folders/xy/l79zrv_j6b7123v2mqf72pzw0000gp/T/pip-install-kt5xg1k7/scikit-learn_c1d43ac8a4e24053b4540611ca1e9cff/build/py3k/sklearn/externals/joblib/testing.py\n",
            "  \u001b[31m   \u001b[0m RefactoringTool: No changes to /private/var/folders/xy/l79zrv_j6b7123v2mqf72pzw0000gp/T/pip-install-kt5xg1k7/scikit-learn_c1d43ac8a4e24053b4540611ca1e9cff/build/py3k/sklearn/externals/joblib/test/common.py\n",
            "  \u001b[31m   \u001b[0m RefactoringTool: No changes to /private/var/folders/xy/l79zrv_j6b7123v2mqf72pzw0000gp/T/pip-install-kt5xg1k7/scikit-learn_c1d43ac8a4e24053b4540611ca1e9cff/build/py3k/sklearn/externals/joblib/test/test_format_stack.py\n",
            "  \u001b[31m   \u001b[0m RefactoringTool: No changes to /private/var/folders/xy/l79zrv_j6b7123v2mqf72pzw0000gp/T/pip-install-kt5xg1k7/scikit-learn_c1d43ac8a4e24053b4540611ca1e9cff/build/py3k/sklearn/externals/joblib/test/test_func_inspect.py\n",
            "  \u001b[31m   \u001b[0m RefactoringTool: Refactored /private/var/folders/xy/l79zrv_j6b7123v2mqf72pzw0000gp/T/pip-install-kt5xg1k7/scikit-learn_c1d43ac8a4e24053b4540611ca1e9cff/build/py3k/sklearn/externals/joblib/test/test_hashing.py\n",
            "  \u001b[31m   \u001b[0m RefactoringTool: Refactored /private/var/folders/xy/l79zrv_j6b7123v2mqf72pzw0000gp/T/pip-install-kt5xg1k7/scikit-learn_c1d43ac8a4e24053b4540611ca1e9cff/build/py3k/sklearn/externals/joblib/test/test_logger.py\n",
            "  \u001b[31m   \u001b[0m RefactoringTool: Refactored /private/var/folders/xy/l79zrv_j6b7123v2mqf72pzw0000gp/T/pip-install-kt5xg1k7/scikit-learn_c1d43ac8a4e24053b4540611ca1e9cff/build/py3k/sklearn/externals/joblib/test/test_memory.py\n",
            "  \u001b[31m   \u001b[0m RefactoringTool: No changes to /private/var/folders/xy/l79zrv_j6b7123v2mqf72pzw0000gp/T/pip-install-kt5xg1k7/scikit-learn_c1d43ac8a4e24053b4540611ca1e9cff/build/py3k/sklearn/externals/joblib/test/test_my_exceptions.py\n",
            "  \u001b[31m   \u001b[0m RefactoringTool: Refactored /private/var/folders/xy/l79zrv_j6b7123v2mqf72pzw0000gp/T/pip-install-kt5xg1k7/scikit-learn_c1d43ac8a4e24053b4540611ca1e9cff/build/py3k/sklearn/externals/joblib/test/test_numpy_pickle.py\n",
            "  \u001b[31m   \u001b[0m RefactoringTool: Refactored /private/var/folders/xy/l79zrv_j6b7123v2mqf72pzw0000gp/T/pip-install-kt5xg1k7/scikit-learn_c1d43ac8a4e24053b4540611ca1e9cff/build/py3k/sklearn/externals/joblib/test/test_parallel.py\n",
            "  \u001b[31m   \u001b[0m RefactoringTool: No changes to /private/var/folders/xy/l79zrv_j6b7123v2mqf72pzw0000gp/T/pip-install-kt5xg1k7/scikit-learn_c1d43ac8a4e24053b4540611ca1e9cff/build/py3k/sklearn/feature_extraction/__init__.py\n",
            "  \u001b[31m   \u001b[0m RefactoringTool: Refactored /private/var/folders/xy/l79zrv_j6b7123v2mqf72pzw0000gp/T/pip-install-kt5xg1k7/scikit-learn_c1d43ac8a4e24053b4540611ca1e9cff/build/py3k/sklearn/feature_extraction/image.py\n",
            "  \u001b[31m   \u001b[0m RefactoringTool: Refactored /private/var/folders/xy/l79zrv_j6b7123v2mqf72pzw0000gp/T/pip-install-kt5xg1k7/scikit-learn_c1d43ac8a4e24053b4540611ca1e9cff/build/py3k/sklearn/feature_extraction/text.py\n",
            "  \u001b[31m   \u001b[0m RefactoringTool: No changes to /private/var/folders/xy/l79zrv_j6b7123v2mqf72pzw0000gp/T/pip-install-kt5xg1k7/scikit-learn_c1d43ac8a4e24053b4540611ca1e9cff/build/py3k/sklearn/feature_extraction/tests/test_image.py\n",
            "  \u001b[31m   \u001b[0m RefactoringTool: Refactored /private/var/folders/xy/l79zrv_j6b7123v2mqf72pzw0000gp/T/pip-install-kt5xg1k7/scikit-learn_c1d43ac8a4e24053b4540611ca1e9cff/build/py3k/sklearn/feature_extraction/tests/test_text.py\n",
            "  \u001b[31m   \u001b[0m RefactoringTool: No changes to /private/var/folders/xy/l79zrv_j6b7123v2mqf72pzw0000gp/T/pip-install-kt5xg1k7/scikit-learn_c1d43ac8a4e24053b4540611ca1e9cff/build/py3k/sklearn/feature_selection/__init__.py\n",
            "  \u001b[31m   \u001b[0m RefactoringTool: Refactored /private/var/folders/xy/l79zrv_j6b7123v2mqf72pzw0000gp/T/pip-install-kt5xg1k7/scikit-learn_c1d43ac8a4e24053b4540611ca1e9cff/build/py3k/sklearn/feature_selection/rfe.py\n",
            "  \u001b[31m   \u001b[0m RefactoringTool: Refactored /private/var/folders/xy/l79zrv_j6b7123v2mqf72pzw0000gp/T/pip-install-kt5xg1k7/scikit-learn_c1d43ac8a4e24053b4540611ca1e9cff/build/py3k/sklearn/feature_selection/univariate_selection.py\n",
            "  \u001b[31m   \u001b[0m RefactoringTool: No changes to /private/var/folders/xy/l79zrv_j6b7123v2mqf72pzw0000gp/T/pip-install-kt5xg1k7/scikit-learn_c1d43ac8a4e24053b4540611ca1e9cff/build/py3k/sklearn/feature_selection/tests/test_chi2.py\n",
            "  \u001b[31m   \u001b[0m RefactoringTool: No changes to /private/var/folders/xy/l79zrv_j6b7123v2mqf72pzw0000gp/T/pip-install-kt5xg1k7/scikit-learn_c1d43ac8a4e24053b4540611ca1e9cff/build/py3k/sklearn/feature_selection/tests/test_feature_select.py\n",
            "  \u001b[31m   \u001b[0m RefactoringTool: No changes to /private/var/folders/xy/l79zrv_j6b7123v2mqf72pzw0000gp/T/pip-install-kt5xg1k7/scikit-learn_c1d43ac8a4e24053b4540611ca1e9cff/build/py3k/sklearn/feature_selection/tests/test_rfe.py\n",
            "  \u001b[31m   \u001b[0m RefactoringTool: No changes to /private/var/folders/xy/l79zrv_j6b7123v2mqf72pzw0000gp/T/pip-install-kt5xg1k7/scikit-learn_c1d43ac8a4e24053b4540611ca1e9cff/build/py3k/sklearn/gaussian_process/__init__.py\n",
            "  \u001b[31m   \u001b[0m RefactoringTool: No changes to /private/var/folders/xy/l79zrv_j6b7123v2mqf72pzw0000gp/T/pip-install-kt5xg1k7/scikit-learn_c1d43ac8a4e24053b4540611ca1e9cff/build/py3k/sklearn/gaussian_process/correlation_models.py\n",
            "  \u001b[31m   \u001b[0m RefactoringTool: Refactored /private/var/folders/xy/l79zrv_j6b7123v2mqf72pzw0000gp/T/pip-install-kt5xg1k7/scikit-learn_c1d43ac8a4e24053b4540611ca1e9cff/build/py3k/sklearn/gaussian_process/gaussian_process.py\n",
            "  \u001b[31m   \u001b[0m RefactoringTool: No changes to /private/var/folders/xy/l79zrv_j6b7123v2mqf72pzw0000gp/T/pip-install-kt5xg1k7/scikit-learn_c1d43ac8a4e24053b4540611ca1e9cff/build/py3k/sklearn/gaussian_process/regression_models.py\n",
            "  \u001b[31m   \u001b[0m RefactoringTool: No changes to /private/var/folders/xy/l79zrv_j6b7123v2mqf72pzw0000gp/T/pip-install-kt5xg1k7/scikit-learn_c1d43ac8a4e24053b4540611ca1e9cff/build/py3k/sklearn/gaussian_process/tests/test_gaussian_process.py\n",
            "  \u001b[31m   \u001b[0m RefactoringTool: No changes to /private/var/folders/xy/l79zrv_j6b7123v2mqf72pzw0000gp/T/pip-install-kt5xg1k7/scikit-learn_c1d43ac8a4e24053b4540611ca1e9cff/build/py3k/sklearn/linear_model/__init__.py\n",
            "  \u001b[31m   \u001b[0m RefactoringTool: No changes to /private/var/folders/xy/l79zrv_j6b7123v2mqf72pzw0000gp/T/pip-install-kt5xg1k7/scikit-learn_c1d43ac8a4e24053b4540611ca1e9cff/build/py3k/sklearn/linear_model/base.py\n",
            "  \u001b[31m   \u001b[0m RefactoringTool: Refactored /private/var/folders/xy/l79zrv_j6b7123v2mqf72pzw0000gp/T/pip-install-kt5xg1k7/scikit-learn_c1d43ac8a4e24053b4540611ca1e9cff/build/py3k/sklearn/linear_model/bayes.py\n",
            "  \u001b[31m   \u001b[0m RefactoringTool: Refactored /private/var/folders/xy/l79zrv_j6b7123v2mqf72pzw0000gp/T/pip-install-kt5xg1k7/scikit-learn_c1d43ac8a4e24053b4540611ca1e9cff/build/py3k/sklearn/linear_model/coordinate_descent.py\n",
            "  \u001b[31m   \u001b[0m RefactoringTool: Refactored /private/var/folders/xy/l79zrv_j6b7123v2mqf72pzw0000gp/T/pip-install-kt5xg1k7/scikit-learn_c1d43ac8a4e24053b4540611ca1e9cff/build/py3k/sklearn/linear_model/least_angle.py\n",
            "  \u001b[31m   \u001b[0m RefactoringTool: No changes to /private/var/folders/xy/l79zrv_j6b7123v2mqf72pzw0000gp/T/pip-install-kt5xg1k7/scikit-learn_c1d43ac8a4e24053b4540611ca1e9cff/build/py3k/sklearn/linear_model/logistic.py\n",
            "  \u001b[31m   \u001b[0m RefactoringTool: Refactored /private/var/folders/xy/l79zrv_j6b7123v2mqf72pzw0000gp/T/pip-install-kt5xg1k7/scikit-learn_c1d43ac8a4e24053b4540611ca1e9cff/build/py3k/sklearn/linear_model/omp.py\n",
            "  \u001b[31m   \u001b[0m RefactoringTool: No changes to /private/var/folders/xy/l79zrv_j6b7123v2mqf72pzw0000gp/T/pip-install-kt5xg1k7/scikit-learn_c1d43ac8a4e24053b4540611ca1e9cff/build/py3k/sklearn/linear_model/ridge.py\n",
            "  \u001b[31m   \u001b[0m RefactoringTool: No changes to /private/var/folders/xy/l79zrv_j6b7123v2mqf72pzw0000gp/T/pip-install-kt5xg1k7/scikit-learn_c1d43ac8a4e24053b4540611ca1e9cff/build/py3k/sklearn/linear_model/setup.py\n",
            "  \u001b[31m   \u001b[0m RefactoringTool: No changes to /private/var/folders/xy/l79zrv_j6b7123v2mqf72pzw0000gp/T/pip-install-kt5xg1k7/scikit-learn_c1d43ac8a4e24053b4540611ca1e9cff/build/py3k/sklearn/linear_model/stochastic_gradient.py\n",
            "  \u001b[31m   \u001b[0m RefactoringTool: No changes to /private/var/folders/xy/l79zrv_j6b7123v2mqf72pzw0000gp/T/pip-install-kt5xg1k7/scikit-learn_c1d43ac8a4e24053b4540611ca1e9cff/build/py3k/sklearn/linear_model/sparse/__init__.py\n",
            "  \u001b[31m   \u001b[0m RefactoringTool: No changes to /private/var/folders/xy/l79zrv_j6b7123v2mqf72pzw0000gp/T/pip-install-kt5xg1k7/scikit-learn_c1d43ac8a4e24053b4540611ca1e9cff/build/py3k/sklearn/linear_model/sparse/base.py\n",
            "  \u001b[31m   \u001b[0m RefactoringTool: No changes to /private/var/folders/xy/l79zrv_j6b7123v2mqf72pzw0000gp/T/pip-install-kt5xg1k7/scikit-learn_c1d43ac8a4e24053b4540611ca1e9cff/build/py3k/sklearn/linear_model/sparse/coordinate_descent.py\n",
            "  \u001b[31m   \u001b[0m RefactoringTool: No changes to /private/var/folders/xy/l79zrv_j6b7123v2mqf72pzw0000gp/T/pip-install-kt5xg1k7/scikit-learn_c1d43ac8a4e24053b4540611ca1e9cff/build/py3k/sklearn/linear_model/sparse/logistic.py\n",
            "  \u001b[31m   \u001b[0m RefactoringTool: No changes to /private/var/folders/xy/l79zrv_j6b7123v2mqf72pzw0000gp/T/pip-install-kt5xg1k7/scikit-learn_c1d43ac8a4e24053b4540611ca1e9cff/build/py3k/sklearn/linear_model/sparse/setup.py\n",
            "  \u001b[31m   \u001b[0m RefactoringTool: No changes to /private/var/folders/xy/l79zrv_j6b7123v2mqf72pzw0000gp/T/pip-install-kt5xg1k7/scikit-learn_c1d43ac8a4e24053b4540611ca1e9cff/build/py3k/sklearn/linear_model/sparse/stochastic_gradient.py\n",
            "  \u001b[31m   \u001b[0m RefactoringTool: No changes to /private/var/folders/xy/l79zrv_j6b7123v2mqf72pzw0000gp/T/pip-install-kt5xg1k7/scikit-learn_c1d43ac8a4e24053b4540611ca1e9cff/build/py3k/sklearn/linear_model/sparse/tests/test_coordinate_descent.py\n",
            "  \u001b[31m   \u001b[0m RefactoringTool: No changes to /private/var/folders/xy/l79zrv_j6b7123v2mqf72pzw0000gp/T/pip-install-kt5xg1k7/scikit-learn_c1d43ac8a4e24053b4540611ca1e9cff/build/py3k/sklearn/linear_model/sparse/tests/test_logistic.py\n",
            "  \u001b[31m   \u001b[0m RefactoringTool: No changes to /private/var/folders/xy/l79zrv_j6b7123v2mqf72pzw0000gp/T/pip-install-kt5xg1k7/scikit-learn_c1d43ac8a4e24053b4540611ca1e9cff/build/py3k/sklearn/linear_model/tests/test_base.py\n",
            "  \u001b[31m   \u001b[0m RefactoringTool: No changes to /private/var/folders/xy/l79zrv_j6b7123v2mqf72pzw0000gp/T/pip-install-kt5xg1k7/scikit-learn_c1d43ac8a4e24053b4540611ca1e9cff/build/py3k/sklearn/linear_model/tests/test_bayes.py\n",
            "  \u001b[31m   \u001b[0m RefactoringTool: No changes to /private/var/folders/xy/l79zrv_j6b7123v2mqf72pzw0000gp/T/pip-install-kt5xg1k7/scikit-learn_c1d43ac8a4e24053b4540611ca1e9cff/build/py3k/sklearn/linear_model/tests/test_coordinate_descent.py\n",
            "  \u001b[31m   \u001b[0m RefactoringTool: No changes to /private/var/folders/xy/l79zrv_j6b7123v2mqf72pzw0000gp/T/pip-install-kt5xg1k7/scikit-learn_c1d43ac8a4e24053b4540611ca1e9cff/build/py3k/sklearn/linear_model/tests/test_least_angle.py\n",
            "  \u001b[31m   \u001b[0m RefactoringTool: No changes to /private/var/folders/xy/l79zrv_j6b7123v2mqf72pzw0000gp/T/pip-install-kt5xg1k7/scikit-learn_c1d43ac8a4e24053b4540611ca1e9cff/build/py3k/sklearn/linear_model/tests/test_logistic.py\n",
            "  \u001b[31m   \u001b[0m RefactoringTool: No changes to /private/var/folders/xy/l79zrv_j6b7123v2mqf72pzw0000gp/T/pip-install-kt5xg1k7/scikit-learn_c1d43ac8a4e24053b4540611ca1e9cff/build/py3k/sklearn/linear_model/tests/test_omp.py\n",
            "  \u001b[31m   \u001b[0m RefactoringTool: No changes to /private/var/folders/xy/l79zrv_j6b7123v2mqf72pzw0000gp/T/pip-install-kt5xg1k7/scikit-learn_c1d43ac8a4e24053b4540611ca1e9cff/build/py3k/sklearn/linear_model/tests/test_ridge.py\n",
            "  \u001b[31m   \u001b[0m RefactoringTool: Refactored /private/var/folders/xy/l79zrv_j6b7123v2mqf72pzw0000gp/T/pip-install-kt5xg1k7/scikit-learn_c1d43ac8a4e24053b4540611ca1e9cff/build/py3k/sklearn/linear_model/tests/test_sgd.py\n",
            "  \u001b[31m   \u001b[0m RefactoringTool: No changes to /private/var/folders/xy/l79zrv_j6b7123v2mqf72pzw0000gp/T/pip-install-kt5xg1k7/scikit-learn_c1d43ac8a4e24053b4540611ca1e9cff/build/py3k/sklearn/manifold/isomap.py\n",
            "  \u001b[31m   \u001b[0m RefactoringTool: Refactored /private/var/folders/xy/l79zrv_j6b7123v2mqf72pzw0000gp/T/pip-install-kt5xg1k7/scikit-learn_c1d43ac8a4e24053b4540611ca1e9cff/build/py3k/sklearn/manifold/locally_linear.py\n",
            "  \u001b[31m   \u001b[0m RefactoringTool: Refactored /private/var/folders/xy/l79zrv_j6b7123v2mqf72pzw0000gp/T/pip-install-kt5xg1k7/scikit-learn_c1d43ac8a4e24053b4540611ca1e9cff/build/py3k/sklearn/manifold/tests/test_isomap.py\n",
            "  \u001b[31m   \u001b[0m RefactoringTool: Refactored /private/var/folders/xy/l79zrv_j6b7123v2mqf72pzw0000gp/T/pip-install-kt5xg1k7/scikit-learn_c1d43ac8a4e24053b4540611ca1e9cff/build/py3k/sklearn/manifold/tests/test_locally_linear.py\n",
            "  \u001b[31m   \u001b[0m RefactoringTool: No changes to /private/var/folders/xy/l79zrv_j6b7123v2mqf72pzw0000gp/T/pip-install-kt5xg1k7/scikit-learn_c1d43ac8a4e24053b4540611ca1e9cff/build/py3k/sklearn/metrics/__init__.py\n",
            "  \u001b[31m   \u001b[0m RefactoringTool: Refactored /private/var/folders/xy/l79zrv_j6b7123v2mqf72pzw0000gp/T/pip-install-kt5xg1k7/scikit-learn_c1d43ac8a4e24053b4540611ca1e9cff/build/py3k/sklearn/metrics/cluster.py\n",
            "  \u001b[31m   \u001b[0m RefactoringTool: No changes to /private/var/folders/xy/l79zrv_j6b7123v2mqf72pzw0000gp/T/pip-install-kt5xg1k7/scikit-learn_c1d43ac8a4e24053b4540611ca1e9cff/build/py3k/sklearn/metrics/metrics.py\n",
            "  \u001b[31m   \u001b[0m RefactoringTool: No changes to /private/var/folders/xy/l79zrv_j6b7123v2mqf72pzw0000gp/T/pip-install-kt5xg1k7/scikit-learn_c1d43ac8a4e24053b4540611ca1e9cff/build/py3k/sklearn/metrics/pairwise.py\n",
            "  \u001b[31m   \u001b[0m RefactoringTool: Refactored /private/var/folders/xy/l79zrv_j6b7123v2mqf72pzw0000gp/T/pip-install-kt5xg1k7/scikit-learn_c1d43ac8a4e24053b4540611ca1e9cff/build/py3k/sklearn/metrics/tests/test_cluster.py\n",
            "  \u001b[31m   \u001b[0m RefactoringTool: Refactored /private/var/folders/xy/l79zrv_j6b7123v2mqf72pzw0000gp/T/pip-install-kt5xg1k7/scikit-learn_c1d43ac8a4e24053b4540611ca1e9cff/build/py3k/sklearn/metrics/tests/test_metrics.py\n",
            "  \u001b[31m   \u001b[0m RefactoringTool: No changes to /private/var/folders/xy/l79zrv_j6b7123v2mqf72pzw0000gp/T/pip-install-kt5xg1k7/scikit-learn_c1d43ac8a4e24053b4540611ca1e9cff/build/py3k/sklearn/metrics/tests/test_pairwise.py\n",
            "  \u001b[31m   \u001b[0m RefactoringTool: No changes to /private/var/folders/xy/l79zrv_j6b7123v2mqf72pzw0000gp/T/pip-install-kt5xg1k7/scikit-learn_c1d43ac8a4e24053b4540611ca1e9cff/build/py3k/sklearn/mixture/__init__.py\n",
            "  \u001b[31m   \u001b[0m RefactoringTool: Refactored /private/var/folders/xy/l79zrv_j6b7123v2mqf72pzw0000gp/T/pip-install-kt5xg1k7/scikit-learn_c1d43ac8a4e24053b4540611ca1e9cff/build/py3k/sklearn/mixture/dpgmm.py\n",
            "  \u001b[31m   \u001b[0m RefactoringTool: Refactored /private/var/folders/xy/l79zrv_j6b7123v2mqf72pzw0000gp/T/pip-install-kt5xg1k7/scikit-learn_c1d43ac8a4e24053b4540611ca1e9cff/build/py3k/sklearn/mixture/gmm.py\n",
            "  \u001b[31m   \u001b[0m RefactoringTool: No changes to /private/var/folders/xy/l79zrv_j6b7123v2mqf72pzw0000gp/T/pip-install-kt5xg1k7/scikit-learn_c1d43ac8a4e24053b4540611ca1e9cff/build/py3k/sklearn/mixture/tests/test_dpgmm.py\n",
            "  \u001b[31m   \u001b[0m RefactoringTool: Refactored /private/var/folders/xy/l79zrv_j6b7123v2mqf72pzw0000gp/T/pip-install-kt5xg1k7/scikit-learn_c1d43ac8a4e24053b4540611ca1e9cff/build/py3k/sklearn/mixture/tests/test_gmm.py\n",
            "  \u001b[31m   \u001b[0m RefactoringTool: No changes to /private/var/folders/xy/l79zrv_j6b7123v2mqf72pzw0000gp/T/pip-install-kt5xg1k7/scikit-learn_c1d43ac8a4e24053b4540611ca1e9cff/build/py3k/sklearn/neighbors/__init__.py\n",
            "  \u001b[31m   \u001b[0m RefactoringTool: No changes to /private/var/folders/xy/l79zrv_j6b7123v2mqf72pzw0000gp/T/pip-install-kt5xg1k7/scikit-learn_c1d43ac8a4e24053b4540611ca1e9cff/build/py3k/sklearn/neighbors/base.py\n",
            "  \u001b[31m   \u001b[0m RefactoringTool: No changes to /private/var/folders/xy/l79zrv_j6b7123v2mqf72pzw0000gp/T/pip-install-kt5xg1k7/scikit-learn_c1d43ac8a4e24053b4540611ca1e9cff/build/py3k/sklearn/neighbors/classification.py\n",
            "  \u001b[31m   \u001b[0m RefactoringTool: No changes to /private/var/folders/xy/l79zrv_j6b7123v2mqf72pzw0000gp/T/pip-install-kt5xg1k7/scikit-learn_c1d43ac8a4e24053b4540611ca1e9cff/build/py3k/sklearn/neighbors/graph.py\n",
            "  \u001b[31m   \u001b[0m RefactoringTool: No changes to /private/var/folders/xy/l79zrv_j6b7123v2mqf72pzw0000gp/T/pip-install-kt5xg1k7/scikit-learn_c1d43ac8a4e24053b4540611ca1e9cff/build/py3k/sklearn/neighbors/regression.py\n",
            "  \u001b[31m   \u001b[0m RefactoringTool: No changes to /private/var/folders/xy/l79zrv_j6b7123v2mqf72pzw0000gp/T/pip-install-kt5xg1k7/scikit-learn_c1d43ac8a4e24053b4540611ca1e9cff/build/py3k/sklearn/neighbors/setup.py\n",
            "  \u001b[31m   \u001b[0m RefactoringTool: No changes to /private/var/folders/xy/l79zrv_j6b7123v2mqf72pzw0000gp/T/pip-install-kt5xg1k7/scikit-learn_c1d43ac8a4e24053b4540611ca1e9cff/build/py3k/sklearn/neighbors/unsupervised.py\n",
            "  \u001b[31m   \u001b[0m RefactoringTool: No changes to /private/var/folders/xy/l79zrv_j6b7123v2mqf72pzw0000gp/T/pip-install-kt5xg1k7/scikit-learn_c1d43ac8a4e24053b4540611ca1e9cff/build/py3k/sklearn/neighbors/tests/test_ball_tree.py\n",
            "  \u001b[31m   \u001b[0m RefactoringTool: No changes to /private/var/folders/xy/l79zrv_j6b7123v2mqf72pzw0000gp/T/pip-install-kt5xg1k7/scikit-learn_c1d43ac8a4e24053b4540611ca1e9cff/build/py3k/sklearn/neighbors/tests/test_neighbors.py\n",
            "  \u001b[31m   \u001b[0m RefactoringTool: Refactored /private/var/folders/xy/l79zrv_j6b7123v2mqf72pzw0000gp/T/pip-install-kt5xg1k7/scikit-learn_c1d43ac8a4e24053b4540611ca1e9cff/build/py3k/sklearn/preprocessing/__init__.py\n",
            "  \u001b[31m   \u001b[0m RefactoringTool: No changes to /private/var/folders/xy/l79zrv_j6b7123v2mqf72pzw0000gp/T/pip-install-kt5xg1k7/scikit-learn_c1d43ac8a4e24053b4540611ca1e9cff/build/py3k/sklearn/preprocessing/setup.py\n",
            "  \u001b[31m   \u001b[0m RefactoringTool: Refactored /private/var/folders/xy/l79zrv_j6b7123v2mqf72pzw0000gp/T/pip-install-kt5xg1k7/scikit-learn_c1d43ac8a4e24053b4540611ca1e9cff/build/py3k/sklearn/preprocessing/tests/test_preprocessing.py\n",
            "  \u001b[31m   \u001b[0m RefactoringTool: No changes to /private/var/folders/xy/l79zrv_j6b7123v2mqf72pzw0000gp/T/pip-install-kt5xg1k7/scikit-learn_c1d43ac8a4e24053b4540611ca1e9cff/build/py3k/sklearn/svm/__init__.py\n",
            "  \u001b[31m   \u001b[0m RefactoringTool: Refactored /private/var/folders/xy/l79zrv_j6b7123v2mqf72pzw0000gp/T/pip-install-kt5xg1k7/scikit-learn_c1d43ac8a4e24053b4540611ca1e9cff/build/py3k/sklearn/svm/base.py\n",
            "  \u001b[31m   \u001b[0m RefactoringTool: No changes to /private/var/folders/xy/l79zrv_j6b7123v2mqf72pzw0000gp/T/pip-install-kt5xg1k7/scikit-learn_c1d43ac8a4e24053b4540611ca1e9cff/build/py3k/sklearn/svm/bounds.py\n",
            "  \u001b[31m   \u001b[0m RefactoringTool: No changes to /private/var/folders/xy/l79zrv_j6b7123v2mqf72pzw0000gp/T/pip-install-kt5xg1k7/scikit-learn_c1d43ac8a4e24053b4540611ca1e9cff/build/py3k/sklearn/svm/classes.py\n",
            "  \u001b[31m   \u001b[0m RefactoringTool: Refactored /private/var/folders/xy/l79zrv_j6b7123v2mqf72pzw0000gp/T/pip-install-kt5xg1k7/scikit-learn_c1d43ac8a4e24053b4540611ca1e9cff/build/py3k/sklearn/svm/setup.py\n",
            "  \u001b[31m   \u001b[0m RefactoringTool: No changes to /private/var/folders/xy/l79zrv_j6b7123v2mqf72pzw0000gp/T/pip-install-kt5xg1k7/scikit-learn_c1d43ac8a4e24053b4540611ca1e9cff/build/py3k/sklearn/svm/sparse/__init__.py\n",
            "  \u001b[31m   \u001b[0m RefactoringTool: No changes to /private/var/folders/xy/l79zrv_j6b7123v2mqf72pzw0000gp/T/pip-install-kt5xg1k7/scikit-learn_c1d43ac8a4e24053b4540611ca1e9cff/build/py3k/sklearn/svm/sparse/base.py\n",
            "  \u001b[31m   \u001b[0m RefactoringTool: No changes to /private/var/folders/xy/l79zrv_j6b7123v2mqf72pzw0000gp/T/pip-install-kt5xg1k7/scikit-learn_c1d43ac8a4e24053b4540611ca1e9cff/build/py3k/sklearn/svm/sparse/classes.py\n",
            "  \u001b[31m   \u001b[0m RefactoringTool: No changes to /private/var/folders/xy/l79zrv_j6b7123v2mqf72pzw0000gp/T/pip-install-kt5xg1k7/scikit-learn_c1d43ac8a4e24053b4540611ca1e9cff/build/py3k/sklearn/svm/sparse/setup.py\n",
            "  \u001b[31m   \u001b[0m RefactoringTool: Refactored /private/var/folders/xy/l79zrv_j6b7123v2mqf72pzw0000gp/T/pip-install-kt5xg1k7/scikit-learn_c1d43ac8a4e24053b4540611ca1e9cff/build/py3k/sklearn/svm/tests/test_bounds.py\n",
            "  \u001b[31m   \u001b[0m RefactoringTool: No changes to /private/var/folders/xy/l79zrv_j6b7123v2mqf72pzw0000gp/T/pip-install-kt5xg1k7/scikit-learn_c1d43ac8a4e24053b4540611ca1e9cff/build/py3k/sklearn/svm/tests/test_sparse.py\n",
            "  \u001b[31m   \u001b[0m RefactoringTool: No changes to /private/var/folders/xy/l79zrv_j6b7123v2mqf72pzw0000gp/T/pip-install-kt5xg1k7/scikit-learn_c1d43ac8a4e24053b4540611ca1e9cff/build/py3k/sklearn/svm/tests/test_svm.py\n",
            "  \u001b[31m   \u001b[0m RefactoringTool: No changes to /private/var/folders/xy/l79zrv_j6b7123v2mqf72pzw0000gp/T/pip-install-kt5xg1k7/scikit-learn_c1d43ac8a4e24053b4540611ca1e9cff/build/py3k/sklearn/tests/test_base.py\n",
            "  \u001b[31m   \u001b[0m RefactoringTool: No changes to /private/var/folders/xy/l79zrv_j6b7123v2mqf72pzw0000gp/T/pip-install-kt5xg1k7/scikit-learn_c1d43ac8a4e24053b4540611ca1e9cff/build/py3k/sklearn/tests/test_cross_validation.py\n",
            "  \u001b[31m   \u001b[0m RefactoringTool: No changes to /private/var/folders/xy/l79zrv_j6b7123v2mqf72pzw0000gp/T/pip-install-kt5xg1k7/scikit-learn_c1d43ac8a4e24053b4540611ca1e9cff/build/py3k/sklearn/tests/test_grid_search.py\n",
            "  \u001b[31m   \u001b[0m RefactoringTool: Refactored /private/var/folders/xy/l79zrv_j6b7123v2mqf72pzw0000gp/T/pip-install-kt5xg1k7/scikit-learn_c1d43ac8a4e24053b4540611ca1e9cff/build/py3k/sklearn/tests/test_hmm.py\n",
            "  \u001b[31m   \u001b[0m RefactoringTool: Refactored /private/var/folders/xy/l79zrv_j6b7123v2mqf72pzw0000gp/T/pip-install-kt5xg1k7/scikit-learn_c1d43ac8a4e24053b4540611ca1e9cff/build/py3k/sklearn/tests/test_init.py\n",
            "  \u001b[31m   \u001b[0m RefactoringTool: No changes to /private/var/folders/xy/l79zrv_j6b7123v2mqf72pzw0000gp/T/pip-install-kt5xg1k7/scikit-learn_c1d43ac8a4e24053b4540611ca1e9cff/build/py3k/sklearn/tests/test_lda.py\n",
            "  \u001b[31m   \u001b[0m RefactoringTool: No changes to /private/var/folders/xy/l79zrv_j6b7123v2mqf72pzw0000gp/T/pip-install-kt5xg1k7/scikit-learn_c1d43ac8a4e24053b4540611ca1e9cff/build/py3k/sklearn/tests/test_multiclass.py\n",
            "  \u001b[31m   \u001b[0m RefactoringTool: Refactored /private/var/folders/xy/l79zrv_j6b7123v2mqf72pzw0000gp/T/pip-install-kt5xg1k7/scikit-learn_c1d43ac8a4e24053b4540611ca1e9cff/build/py3k/sklearn/tests/test_naive_bayes.py\n",
            "  \u001b[31m   \u001b[0m RefactoringTool: No changes to /private/var/folders/xy/l79zrv_j6b7123v2mqf72pzw0000gp/T/pip-install-kt5xg1k7/scikit-learn_c1d43ac8a4e24053b4540611ca1e9cff/build/py3k/sklearn/tests/test_pipeline.py\n",
            "  \u001b[31m   \u001b[0m RefactoringTool: Refactored /private/var/folders/xy/l79zrv_j6b7123v2mqf72pzw0000gp/T/pip-install-kt5xg1k7/scikit-learn_c1d43ac8a4e24053b4540611ca1e9cff/build/py3k/sklearn/tests/test_pls.py\n",
            "  \u001b[31m   \u001b[0m RefactoringTool: No changes to /private/var/folders/xy/l79zrv_j6b7123v2mqf72pzw0000gp/T/pip-install-kt5xg1k7/scikit-learn_c1d43ac8a4e24053b4540611ca1e9cff/build/py3k/sklearn/tests/test_qda.py\n",
            "  \u001b[31m   \u001b[0m RefactoringTool: Refactored /private/var/folders/xy/l79zrv_j6b7123v2mqf72pzw0000gp/T/pip-install-kt5xg1k7/scikit-learn_c1d43ac8a4e24053b4540611ca1e9cff/build/py3k/sklearn/utils/__init__.py\n",
            "  \u001b[31m   \u001b[0m RefactoringTool: No changes to /private/var/folders/xy/l79zrv_j6b7123v2mqf72pzw0000gp/T/pip-install-kt5xg1k7/scikit-learn_c1d43ac8a4e24053b4540611ca1e9cff/build/py3k/sklearn/utils/_csgraph.py\n",
            "  \u001b[31m   \u001b[0m RefactoringTool: Refactored /private/var/folders/xy/l79zrv_j6b7123v2mqf72pzw0000gp/T/pip-install-kt5xg1k7/scikit-learn_c1d43ac8a4e24053b4540611ca1e9cff/build/py3k/sklearn/utils/arpack.py\n",
            "  \u001b[31m   \u001b[0m RefactoringTool: No changes to /private/var/folders/xy/l79zrv_j6b7123v2mqf72pzw0000gp/T/pip-install-kt5xg1k7/scikit-learn_c1d43ac8a4e24053b4540611ca1e9cff/build/py3k/sklearn/utils/bench.py\n",
            "  \u001b[31m   \u001b[0m RefactoringTool: Refactored /private/var/folders/xy/l79zrv_j6b7123v2mqf72pzw0000gp/T/pip-install-kt5xg1k7/scikit-learn_c1d43ac8a4e24053b4540611ca1e9cff/build/py3k/sklearn/utils/extmath.py\n",
            "  \u001b[31m   \u001b[0m RefactoringTool: Refactored /private/var/folders/xy/l79zrv_j6b7123v2mqf72pzw0000gp/T/pip-install-kt5xg1k7/scikit-learn_c1d43ac8a4e24053b4540611ca1e9cff/build/py3k/sklearn/utils/fixes.py\n",
            "  \u001b[31m   \u001b[0m RefactoringTool: No changes to /private/var/folders/xy/l79zrv_j6b7123v2mqf72pzw0000gp/T/pip-install-kt5xg1k7/scikit-learn_c1d43ac8a4e24053b4540611ca1e9cff/build/py3k/sklearn/utils/graph.py\n",
            "  \u001b[31m   \u001b[0m RefactoringTool: No changes to /private/var/folders/xy/l79zrv_j6b7123v2mqf72pzw0000gp/T/pip-install-kt5xg1k7/scikit-learn_c1d43ac8a4e24053b4540611ca1e9cff/build/py3k/sklearn/utils/setup.py\n",
            "  \u001b[31m   \u001b[0m RefactoringTool: Refactored /private/var/folders/xy/l79zrv_j6b7123v2mqf72pzw0000gp/T/pip-install-kt5xg1k7/scikit-learn_c1d43ac8a4e24053b4540611ca1e9cff/build/py3k/sklearn/utils/testing.py\n",
            "  \u001b[31m   \u001b[0m RefactoringTool: No changes to /private/var/folders/xy/l79zrv_j6b7123v2mqf72pzw0000gp/T/pip-install-kt5xg1k7/scikit-learn_c1d43ac8a4e24053b4540611ca1e9cff/build/py3k/sklearn/utils/sparsetools/__init__.py\n",
            "  \u001b[31m   \u001b[0m RefactoringTool: No changes to /private/var/folders/xy/l79zrv_j6b7123v2mqf72pzw0000gp/T/pip-install-kt5xg1k7/scikit-learn_c1d43ac8a4e24053b4540611ca1e9cff/build/py3k/sklearn/utils/sparsetools/csgraph.py\n",
            "  \u001b[31m   \u001b[0m RefactoringTool: No changes to /private/var/folders/xy/l79zrv_j6b7123v2mqf72pzw0000gp/T/pip-install-kt5xg1k7/scikit-learn_c1d43ac8a4e24053b4540611ca1e9cff/build/py3k/sklearn/utils/sparsetools/setup.py\n",
            "  \u001b[31m   \u001b[0m RefactoringTool: No changes to /private/var/folders/xy/l79zrv_j6b7123v2mqf72pzw0000gp/T/pip-install-kt5xg1k7/scikit-learn_c1d43ac8a4e24053b4540611ca1e9cff/build/py3k/sklearn/utils/tests/test___init__.py\n",
            "  \u001b[31m   \u001b[0m RefactoringTool: No changes to /private/var/folders/xy/l79zrv_j6b7123v2mqf72pzw0000gp/T/pip-install-kt5xg1k7/scikit-learn_c1d43ac8a4e24053b4540611ca1e9cff/build/py3k/sklearn/utils/tests/test_fixes.py\n",
            "  \u001b[31m   \u001b[0m RefactoringTool: No changes to /private/var/folders/xy/l79zrv_j6b7123v2mqf72pzw0000gp/T/pip-install-kt5xg1k7/scikit-learn_c1d43ac8a4e24053b4540611ca1e9cff/build/py3k/sklearn/utils/tests/test_graph.py\n",
            "  \u001b[31m   \u001b[0m RefactoringTool: No changes to /private/var/folders/xy/l79zrv_j6b7123v2mqf72pzw0000gp/T/pip-install-kt5xg1k7/scikit-learn_c1d43ac8a4e24053b4540611ca1e9cff/build/py3k/sklearn/utils/tests/test_shortest_path.py\n",
            "  \u001b[31m   \u001b[0m RefactoringTool: No changes to /private/var/folders/xy/l79zrv_j6b7123v2mqf72pzw0000gp/T/pip-install-kt5xg1k7/scikit-learn_c1d43ac8a4e24053b4540611ca1e9cff/build/py3k/sklearn/utils/tests/test_svd.py\n",
            "  \u001b[31m   \u001b[0m RefactoringTool: No changes to /private/var/folders/xy/l79zrv_j6b7123v2mqf72pzw0000gp/T/pip-install-kt5xg1k7/scikit-learn_c1d43ac8a4e24053b4540611ca1e9cff/build/py3k/sklearn/utils/tests/test_utils.py\n",
            "  \u001b[31m   \u001b[0m RefactoringTool: No changes to /private/var/folders/xy/l79zrv_j6b7123v2mqf72pzw0000gp/T/pip-install-kt5xg1k7/scikit-learn_c1d43ac8a4e24053b4540611ca1e9cff/build/py3k/sklearn/utils/tests/test_weighted_mode.py\n",
            "  \u001b[31m   \u001b[0m RefactoringTool: Files that were modified:\n",
            "  \u001b[31m   \u001b[0m RefactoringTool: /private/var/folders/xy/l79zrv_j6b7123v2mqf72pzw0000gp/T/pip-install-kt5xg1k7/scikit-learn_c1d43ac8a4e24053b4540611ca1e9cff/build/py3k/sklearn/__init__.py\n",
            "  \u001b[31m   \u001b[0m RefactoringTool: /private/var/folders/xy/l79zrv_j6b7123v2mqf72pzw0000gp/T/pip-install-kt5xg1k7/scikit-learn_c1d43ac8a4e24053b4540611ca1e9cff/build/py3k/sklearn/ball_tree.py\n",
            "  \u001b[31m   \u001b[0m RefactoringTool: /private/var/folders/xy/l79zrv_j6b7123v2mqf72pzw0000gp/T/pip-install-kt5xg1k7/scikit-learn_c1d43ac8a4e24053b4540611ca1e9cff/build/py3k/sklearn/base.py\n",
            "  \u001b[31m   \u001b[0m RefactoringTool: /private/var/folders/xy/l79zrv_j6b7123v2mqf72pzw0000gp/T/pip-install-kt5xg1k7/scikit-learn_c1d43ac8a4e24053b4540611ca1e9cff/build/py3k/sklearn/cross_val.py\n",
            "  \u001b[31m   \u001b[0m RefactoringTool: /private/var/folders/xy/l79zrv_j6b7123v2mqf72pzw0000gp/T/pip-install-kt5xg1k7/scikit-learn_c1d43ac8a4e24053b4540611ca1e9cff/build/py3k/sklearn/cross_validation.py\n",
            "  \u001b[31m   \u001b[0m RefactoringTool: /private/var/folders/xy/l79zrv_j6b7123v2mqf72pzw0000gp/T/pip-install-kt5xg1k7/scikit-learn_c1d43ac8a4e24053b4540611ca1e9cff/build/py3k/sklearn/grid_search.py\n",
            "  \u001b[31m   \u001b[0m RefactoringTool: /private/var/folders/xy/l79zrv_j6b7123v2mqf72pzw0000gp/T/pip-install-kt5xg1k7/scikit-learn_c1d43ac8a4e24053b4540611ca1e9cff/build/py3k/sklearn/hmm.py\n",
            "  \u001b[31m   \u001b[0m RefactoringTool: /private/var/folders/xy/l79zrv_j6b7123v2mqf72pzw0000gp/T/pip-install-kt5xg1k7/scikit-learn_c1d43ac8a4e24053b4540611ca1e9cff/build/py3k/sklearn/lda.py\n",
            "  \u001b[31m   \u001b[0m RefactoringTool: /private/var/folders/xy/l79zrv_j6b7123v2mqf72pzw0000gp/T/pip-install-kt5xg1k7/scikit-learn_c1d43ac8a4e24053b4540611ca1e9cff/build/py3k/sklearn/multiclass.py\n",
            "  \u001b[31m   \u001b[0m RefactoringTool: /private/var/folders/xy/l79zrv_j6b7123v2mqf72pzw0000gp/T/pip-install-kt5xg1k7/scikit-learn_c1d43ac8a4e24053b4540611ca1e9cff/build/py3k/sklearn/naive_bayes.py\n",
            "  \u001b[31m   \u001b[0m RefactoringTool: /private/var/folders/xy/l79zrv_j6b7123v2mqf72pzw0000gp/T/pip-install-kt5xg1k7/scikit-learn_c1d43ac8a4e24053b4540611ca1e9cff/build/py3k/sklearn/pipeline.py\n",
            "  \u001b[31m   \u001b[0m RefactoringTool: /private/var/folders/xy/l79zrv_j6b7123v2mqf72pzw0000gp/T/pip-install-kt5xg1k7/scikit-learn_c1d43ac8a4e24053b4540611ca1e9cff/build/py3k/sklearn/pls.py\n",
            "  \u001b[31m   \u001b[0m RefactoringTool: /private/var/folders/xy/l79zrv_j6b7123v2mqf72pzw0000gp/T/pip-install-kt5xg1k7/scikit-learn_c1d43ac8a4e24053b4540611ca1e9cff/build/py3k/sklearn/qda.py\n",
            "  \u001b[31m   \u001b[0m RefactoringTool: /private/var/folders/xy/l79zrv_j6b7123v2mqf72pzw0000gp/T/pip-install-kt5xg1k7/scikit-learn_c1d43ac8a4e24053b4540611ca1e9cff/build/py3k/sklearn/setup.py\n",
            "  \u001b[31m   \u001b[0m RefactoringTool: /private/var/folders/xy/l79zrv_j6b7123v2mqf72pzw0000gp/T/pip-install-kt5xg1k7/scikit-learn_c1d43ac8a4e24053b4540611ca1e9cff/build/py3k/sklearn/check_build/setup.py\n",
            "  \u001b[31m   \u001b[0m RefactoringTool: /private/var/folders/xy/l79zrv_j6b7123v2mqf72pzw0000gp/T/pip-install-kt5xg1k7/scikit-learn_c1d43ac8a4e24053b4540611ca1e9cff/build/py3k/sklearn/cluster/__init__.py\n",
            "  \u001b[31m   \u001b[0m RefactoringTool: /private/var/folders/xy/l79zrv_j6b7123v2mqf72pzw0000gp/T/pip-install-kt5xg1k7/scikit-learn_c1d43ac8a4e24053b4540611ca1e9cff/build/py3k/sklearn/cluster/_feature_agglomeration.py\n",
            "  \u001b[31m   \u001b[0m RefactoringTool: /private/var/folders/xy/l79zrv_j6b7123v2mqf72pzw0000gp/T/pip-install-kt5xg1k7/scikit-learn_c1d43ac8a4e24053b4540611ca1e9cff/build/py3k/sklearn/cluster/affinity_propagation_.py\n",
            "  \u001b[31m   \u001b[0m RefactoringTool: /private/var/folders/xy/l79zrv_j6b7123v2mqf72pzw0000gp/T/pip-install-kt5xg1k7/scikit-learn_c1d43ac8a4e24053b4540611ca1e9cff/build/py3k/sklearn/cluster/dbscan_.py\n",
            "  \u001b[31m   \u001b[0m RefactoringTool: /private/var/folders/xy/l79zrv_j6b7123v2mqf72pzw0000gp/T/pip-install-kt5xg1k7/scikit-learn_c1d43ac8a4e24053b4540611ca1e9cff/build/py3k/sklearn/cluster/hierarchical.py\n",
            "  \u001b[31m   \u001b[0m RefactoringTool: /private/var/folders/xy/l79zrv_j6b7123v2mqf72pzw0000gp/T/pip-install-kt5xg1k7/scikit-learn_c1d43ac8a4e24053b4540611ca1e9cff/build/py3k/sklearn/cluster/k_means_.py\n",
            "  \u001b[31m   \u001b[0m RefactoringTool: /private/var/folders/xy/l79zrv_j6b7123v2mqf72pzw0000gp/T/pip-install-kt5xg1k7/scikit-learn_c1d43ac8a4e24053b4540611ca1e9cff/build/py3k/sklearn/cluster/mean_shift_.py\n",
            "  \u001b[31m   \u001b[0m RefactoringTool: /private/var/folders/xy/l79zrv_j6b7123v2mqf72pzw0000gp/T/pip-install-kt5xg1k7/scikit-learn_c1d43ac8a4e24053b4540611ca1e9cff/build/py3k/sklearn/cluster/setup.py\n",
            "  \u001b[31m   \u001b[0m RefactoringTool: /private/var/folders/xy/l79zrv_j6b7123v2mqf72pzw0000gp/T/pip-install-kt5xg1k7/scikit-learn_c1d43ac8a4e24053b4540611ca1e9cff/build/py3k/sklearn/cluster/spectral.py\n",
            "  \u001b[31m   \u001b[0m RefactoringTool: /private/var/folders/xy/l79zrv_j6b7123v2mqf72pzw0000gp/T/pip-install-kt5xg1k7/scikit-learn_c1d43ac8a4e24053b4540611ca1e9cff/build/py3k/sklearn/cluster/tests/common.py\n",
            "  \u001b[31m   \u001b[0m RefactoringTool: /private/var/folders/xy/l79zrv_j6b7123v2mqf72pzw0000gp/T/pip-install-kt5xg1k7/scikit-learn_c1d43ac8a4e24053b4540611ca1e9cff/build/py3k/sklearn/cluster/tests/test_affinity_propagation.py\n",
            "  \u001b[31m   \u001b[0m RefactoringTool: /private/var/folders/xy/l79zrv_j6b7123v2mqf72pzw0000gp/T/pip-install-kt5xg1k7/scikit-learn_c1d43ac8a4e24053b4540611ca1e9cff/build/py3k/sklearn/cluster/tests/test_dbscan.py\n",
            "  \u001b[31m   \u001b[0m RefactoringTool: /private/var/folders/xy/l79zrv_j6b7123v2mqf72pzw0000gp/T/pip-install-kt5xg1k7/scikit-learn_c1d43ac8a4e24053b4540611ca1e9cff/build/py3k/sklearn/cluster/tests/test_hierarchical.py\n",
            "  \u001b[31m   \u001b[0m RefactoringTool: /private/var/folders/xy/l79zrv_j6b7123v2mqf72pzw0000gp/T/pip-install-kt5xg1k7/scikit-learn_c1d43ac8a4e24053b4540611ca1e9cff/build/py3k/sklearn/cluster/tests/test_k_means.py\n",
            "  \u001b[31m   \u001b[0m RefactoringTool: /private/var/folders/xy/l79zrv_j6b7123v2mqf72pzw0000gp/T/pip-install-kt5xg1k7/scikit-learn_c1d43ac8a4e24053b4540611ca1e9cff/build/py3k/sklearn/cluster/tests/test_mean_shift.py\n",
            "  \u001b[31m   \u001b[0m RefactoringTool: /private/var/folders/xy/l79zrv_j6b7123v2mqf72pzw0000gp/T/pip-install-kt5xg1k7/scikit-learn_c1d43ac8a4e24053b4540611ca1e9cff/build/py3k/sklearn/cluster/tests/test_spectral.py\n",
            "  \u001b[31m   \u001b[0m RefactoringTool: /private/var/folders/xy/l79zrv_j6b7123v2mqf72pzw0000gp/T/pip-install-kt5xg1k7/scikit-learn_c1d43ac8a4e24053b4540611ca1e9cff/build/py3k/sklearn/covariance/__init__.py\n",
            "  \u001b[31m   \u001b[0m RefactoringTool: /private/var/folders/xy/l79zrv_j6b7123v2mqf72pzw0000gp/T/pip-install-kt5xg1k7/scikit-learn_c1d43ac8a4e24053b4540611ca1e9cff/build/py3k/sklearn/covariance/empirical_covariance_.py\n",
            "  \u001b[31m   \u001b[0m RefactoringTool: /private/var/folders/xy/l79zrv_j6b7123v2mqf72pzw0000gp/T/pip-install-kt5xg1k7/scikit-learn_c1d43ac8a4e24053b4540611ca1e9cff/build/py3k/sklearn/covariance/shrunk_covariance_.py\n",
            "  \u001b[31m   \u001b[0m RefactoringTool: /private/var/folders/xy/l79zrv_j6b7123v2mqf72pzw0000gp/T/pip-install-kt5xg1k7/scikit-learn_c1d43ac8a4e24053b4540611ca1e9cff/build/py3k/sklearn/covariance/tests/test_covariance.py\n",
            "  \u001b[31m   \u001b[0m RefactoringTool: /private/var/folders/xy/l79zrv_j6b7123v2mqf72pzw0000gp/T/pip-install-kt5xg1k7/scikit-learn_c1d43ac8a4e24053b4540611ca1e9cff/build/py3k/sklearn/datasets/__init__.py\n",
            "  \u001b[31m   \u001b[0m RefactoringTool: /private/var/folders/xy/l79zrv_j6b7123v2mqf72pzw0000gp/T/pip-install-kt5xg1k7/scikit-learn_c1d43ac8a4e24053b4540611ca1e9cff/build/py3k/sklearn/datasets/base.py\n",
            "  \u001b[31m   \u001b[0m RefactoringTool: /private/var/folders/xy/l79zrv_j6b7123v2mqf72pzw0000gp/T/pip-install-kt5xg1k7/scikit-learn_c1d43ac8a4e24053b4540611ca1e9cff/build/py3k/sklearn/datasets/lfw.py\n",
            "  \u001b[31m   \u001b[0m RefactoringTool: /private/var/folders/xy/l79zrv_j6b7123v2mqf72pzw0000gp/T/pip-install-kt5xg1k7/scikit-learn_c1d43ac8a4e24053b4540611ca1e9cff/build/py3k/sklearn/datasets/mlcomp.py\n",
            "  \u001b[31m   \u001b[0m RefactoringTool: /private/var/folders/xy/l79zrv_j6b7123v2mqf72pzw0000gp/T/pip-install-kt5xg1k7/scikit-learn_c1d43ac8a4e24053b4540611ca1e9cff/build/py3k/sklearn/datasets/mldata.py\n",
            "  \u001b[31m   \u001b[0m RefactoringTool: /private/var/folders/xy/l79zrv_j6b7123v2mqf72pzw0000gp/T/pip-install-kt5xg1k7/scikit-learn_c1d43ac8a4e24053b4540611ca1e9cff/build/py3k/sklearn/datasets/olivetti_faces.py\n",
            "  \u001b[31m   \u001b[0m RefactoringTool: /private/var/folders/xy/l79zrv_j6b7123v2mqf72pzw0000gp/T/pip-install-kt5xg1k7/scikit-learn_c1d43ac8a4e24053b4540611ca1e9cff/build/py3k/sklearn/datasets/samples_generator.py\n",
            "  \u001b[31m   \u001b[0m RefactoringTool: /private/var/folders/xy/l79zrv_j6b7123v2mqf72pzw0000gp/T/pip-install-kt5xg1k7/scikit-learn_c1d43ac8a4e24053b4540611ca1e9cff/build/py3k/sklearn/datasets/setup.py\n",
            "  \u001b[31m   \u001b[0m RefactoringTool: /private/var/folders/xy/l79zrv_j6b7123v2mqf72pzw0000gp/T/pip-install-kt5xg1k7/scikit-learn_c1d43ac8a4e24053b4540611ca1e9cff/build/py3k/sklearn/datasets/svmlight_format.py\n",
            "  \u001b[31m   \u001b[0m RefactoringTool: /private/var/folders/xy/l79zrv_j6b7123v2mqf72pzw0000gp/T/pip-install-kt5xg1k7/scikit-learn_c1d43ac8a4e24053b4540611ca1e9cff/build/py3k/sklearn/datasets/twenty_newsgroups.py\n",
            "  \u001b[31m   \u001b[0m RefactoringTool: /private/var/folders/xy/l79zrv_j6b7123v2mqf72pzw0000gp/T/pip-install-kt5xg1k7/scikit-learn_c1d43ac8a4e24053b4540611ca1e9cff/build/py3k/sklearn/datasets/tests/test_20news.py\n",
            "  \u001b[31m   \u001b[0m RefactoringTool: /private/var/folders/xy/l79zrv_j6b7123v2mqf72pzw0000gp/T/pip-install-kt5xg1k7/scikit-learn_c1d43ac8a4e24053b4540611ca1e9cff/build/py3k/sklearn/datasets/tests/test_base.py\n",
            "  \u001b[31m   \u001b[0m RefactoringTool: /private/var/folders/xy/l79zrv_j6b7123v2mqf72pzw0000gp/T/pip-install-kt5xg1k7/scikit-learn_c1d43ac8a4e24053b4540611ca1e9cff/build/py3k/sklearn/datasets/tests/test_lfw.py\n",
            "  \u001b[31m   \u001b[0m RefactoringTool: /private/var/folders/xy/l79zrv_j6b7123v2mqf72pzw0000gp/T/pip-install-kt5xg1k7/scikit-learn_c1d43ac8a4e24053b4540611ca1e9cff/build/py3k/sklearn/datasets/tests/test_mldata.py\n",
            "  \u001b[31m   \u001b[0m RefactoringTool: /private/var/folders/xy/l79zrv_j6b7123v2mqf72pzw0000gp/T/pip-install-kt5xg1k7/scikit-learn_c1d43ac8a4e24053b4540611ca1e9cff/build/py3k/sklearn/datasets/tests/test_samples_generator.py\n",
            "  \u001b[31m   \u001b[0m RefactoringTool: /private/var/folders/xy/l79zrv_j6b7123v2mqf72pzw0000gp/T/pip-install-kt5xg1k7/scikit-learn_c1d43ac8a4e24053b4540611ca1e9cff/build/py3k/sklearn/datasets/tests/test_svmlight_format.py\n",
            "  \u001b[31m   \u001b[0m RefactoringTool: /private/var/folders/xy/l79zrv_j6b7123v2mqf72pzw0000gp/T/pip-install-kt5xg1k7/scikit-learn_c1d43ac8a4e24053b4540611ca1e9cff/build/py3k/sklearn/decomposition/__init__.py\n",
            "  \u001b[31m   \u001b[0m RefactoringTool: /private/var/folders/xy/l79zrv_j6b7123v2mqf72pzw0000gp/T/pip-install-kt5xg1k7/scikit-learn_c1d43ac8a4e24053b4540611ca1e9cff/build/py3k/sklearn/decomposition/dict_learning.py\n",
            "  \u001b[31m   \u001b[0m RefactoringTool: /private/var/folders/xy/l79zrv_j6b7123v2mqf72pzw0000gp/T/pip-install-kt5xg1k7/scikit-learn_c1d43ac8a4e24053b4540611ca1e9cff/build/py3k/sklearn/decomposition/fastica_.py\n",
            "  \u001b[31m   \u001b[0m RefactoringTool: /private/var/folders/xy/l79zrv_j6b7123v2mqf72pzw0000gp/T/pip-install-kt5xg1k7/scikit-learn_c1d43ac8a4e24053b4540611ca1e9cff/build/py3k/sklearn/decomposition/kernel_pca.py\n",
            "  \u001b[31m   \u001b[0m RefactoringTool: /private/var/folders/xy/l79zrv_j6b7123v2mqf72pzw0000gp/T/pip-install-kt5xg1k7/scikit-learn_c1d43ac8a4e24053b4540611ca1e9cff/build/py3k/sklearn/decomposition/nmf.py\n",
            "  \u001b[31m   \u001b[0m RefactoringTool: /private/var/folders/xy/l79zrv_j6b7123v2mqf72pzw0000gp/T/pip-install-kt5xg1k7/scikit-learn_c1d43ac8a4e24053b4540611ca1e9cff/build/py3k/sklearn/decomposition/pca.py\n",
            "  \u001b[31m   \u001b[0m RefactoringTool: /private/var/folders/xy/l79zrv_j6b7123v2mqf72pzw0000gp/T/pip-install-kt5xg1k7/scikit-learn_c1d43ac8a4e24053b4540611ca1e9cff/build/py3k/sklearn/decomposition/sparse_pca.py\n",
            "  \u001b[31m   \u001b[0m RefactoringTool: /private/var/folders/xy/l79zrv_j6b7123v2mqf72pzw0000gp/T/pip-install-kt5xg1k7/scikit-learn_c1d43ac8a4e24053b4540611ca1e9cff/build/py3k/sklearn/decomposition/tests/test_dict_learning.py\n",
            "  \u001b[31m   \u001b[0m RefactoringTool: /private/var/folders/xy/l79zrv_j6b7123v2mqf72pzw0000gp/T/pip-install-kt5xg1k7/scikit-learn_c1d43ac8a4e24053b4540611ca1e9cff/build/py3k/sklearn/decomposition/tests/test_fastica.py\n",
            "  \u001b[31m   \u001b[0m RefactoringTool: /private/var/folders/xy/l79zrv_j6b7123v2mqf72pzw0000gp/T/pip-install-kt5xg1k7/scikit-learn_c1d43ac8a4e24053b4540611ca1e9cff/build/py3k/sklearn/decomposition/tests/test_kernel_pca.py\n",
            "  \u001b[31m   \u001b[0m RefactoringTool: /private/var/folders/xy/l79zrv_j6b7123v2mqf72pzw0000gp/T/pip-install-kt5xg1k7/scikit-learn_c1d43ac8a4e24053b4540611ca1e9cff/build/py3k/sklearn/decomposition/tests/test_nmf.py\n",
            "  \u001b[31m   \u001b[0m RefactoringTool: /private/var/folders/xy/l79zrv_j6b7123v2mqf72pzw0000gp/T/pip-install-kt5xg1k7/scikit-learn_c1d43ac8a4e24053b4540611ca1e9cff/build/py3k/sklearn/decomposition/tests/test_pca.py\n",
            "  \u001b[31m   \u001b[0m RefactoringTool: /private/var/folders/xy/l79zrv_j6b7123v2mqf72pzw0000gp/T/pip-install-kt5xg1k7/scikit-learn_c1d43ac8a4e24053b4540611ca1e9cff/build/py3k/sklearn/decomposition/tests/test_sparse_pca.py\n",
            "  \u001b[31m   \u001b[0m RefactoringTool: /private/var/folders/xy/l79zrv_j6b7123v2mqf72pzw0000gp/T/pip-install-kt5xg1k7/scikit-learn_c1d43ac8a4e24053b4540611ca1e9cff/build/py3k/sklearn/externals/__init__.py\n",
            "  \u001b[31m   \u001b[0m RefactoringTool: /private/var/folders/xy/l79zrv_j6b7123v2mqf72pzw0000gp/T/pip-install-kt5xg1k7/scikit-learn_c1d43ac8a4e24053b4540611ca1e9cff/build/py3k/sklearn/externals/setup.py\n",
            "  \u001b[31m   \u001b[0m RefactoringTool: /private/var/folders/xy/l79zrv_j6b7123v2mqf72pzw0000gp/T/pip-install-kt5xg1k7/scikit-learn_c1d43ac8a4e24053b4540611ca1e9cff/build/py3k/sklearn/externals/test_externals_setup.py\n",
            "  \u001b[31m   \u001b[0m RefactoringTool: /private/var/folders/xy/l79zrv_j6b7123v2mqf72pzw0000gp/T/pip-install-kt5xg1k7/scikit-learn_c1d43ac8a4e24053b4540611ca1e9cff/build/py3k/sklearn/externals/joblib/__init__.py\n",
            "  \u001b[31m   \u001b[0m RefactoringTool: /private/var/folders/xy/l79zrv_j6b7123v2mqf72pzw0000gp/T/pip-install-kt5xg1k7/scikit-learn_c1d43ac8a4e24053b4540611ca1e9cff/build/py3k/sklearn/externals/joblib/disk.py\n",
            "  \u001b[31m   \u001b[0m RefactoringTool: /private/var/folders/xy/l79zrv_j6b7123v2mqf72pzw0000gp/T/pip-install-kt5xg1k7/scikit-learn_c1d43ac8a4e24053b4540611ca1e9cff/build/py3k/sklearn/externals/joblib/format_stack.py\n",
            "  \u001b[31m   \u001b[0m RefactoringTool: /private/var/folders/xy/l79zrv_j6b7123v2mqf72pzw0000gp/T/pip-install-kt5xg1k7/scikit-learn_c1d43ac8a4e24053b4540611ca1e9cff/build/py3k/sklearn/externals/joblib/func_inspect.py\n",
            "  \u001b[31m   \u001b[0m RefactoringTool: /private/var/folders/xy/l79zrv_j6b7123v2mqf72pzw0000gp/T/pip-install-kt5xg1k7/scikit-learn_c1d43ac8a4e24053b4540611ca1e9cff/build/py3k/sklearn/externals/joblib/hashing.py\n",
            "  \u001b[31m   \u001b[0m RefactoringTool: /private/var/folders/xy/l79zrv_j6b7123v2mqf72pzw0000gp/T/pip-install-kt5xg1k7/scikit-learn_c1d43ac8a4e24053b4540611ca1e9cff/build/py3k/sklearn/externals/joblib/logger.py\n",
            "  \u001b[31m   \u001b[0m RefactoringTool: /private/var/folders/xy/l79zrv_j6b7123v2mqf72pzw0000gp/T/pip-install-kt5xg1k7/scikit-learn_c1d43ac8a4e24053b4540611ca1e9cff/build/py3k/sklearn/externals/joblib/memory.py\n",
            "  \u001b[31m   \u001b[0m RefactoringTool: /private/var/folders/xy/l79zrv_j6b7123v2mqf72pzw0000gp/T/pip-install-kt5xg1k7/scikit-learn_c1d43ac8a4e24053b4540611ca1e9cff/build/py3k/sklearn/externals/joblib/my_exceptions.py\n",
            "  \u001b[31m   \u001b[0m RefactoringTool: /private/var/folders/xy/l79zrv_j6b7123v2mqf72pzw0000gp/T/pip-install-kt5xg1k7/scikit-learn_c1d43ac8a4e24053b4540611ca1e9cff/build/py3k/sklearn/externals/joblib/numpy_pickle.py\n",
            "  \u001b[31m   \u001b[0m RefactoringTool: /private/var/folders/xy/l79zrv_j6b7123v2mqf72pzw0000gp/T/pip-install-kt5xg1k7/scikit-learn_c1d43ac8a4e24053b4540611ca1e9cff/build/py3k/sklearn/externals/joblib/parallel.py\n",
            "  \u001b[31m   \u001b[0m RefactoringTool: /private/var/folders/xy/l79zrv_j6b7123v2mqf72pzw0000gp/T/pip-install-kt5xg1k7/scikit-learn_c1d43ac8a4e24053b4540611ca1e9cff/build/py3k/sklearn/externals/joblib/testing.py\n",
            "  \u001b[31m   \u001b[0m RefactoringTool: /private/var/folders/xy/l79zrv_j6b7123v2mqf72pzw0000gp/T/pip-install-kt5xg1k7/scikit-learn_c1d43ac8a4e24053b4540611ca1e9cff/build/py3k/sklearn/externals/joblib/test/common.py\n",
            "  \u001b[31m   \u001b[0m RefactoringTool: /private/var/folders/xy/l79zrv_j6b7123v2mqf72pzw0000gp/T/pip-install-kt5xg1k7/scikit-learn_c1d43ac8a4e24053b4540611ca1e9cff/build/py3k/sklearn/externals/joblib/test/test_format_stack.py\n",
            "  \u001b[31m   \u001b[0m RefactoringTool: /private/var/folders/xy/l79zrv_j6b7123v2mqf72pzw0000gp/T/pip-install-kt5xg1k7/scikit-learn_c1d43ac8a4e24053b4540611ca1e9cff/build/py3k/sklearn/externals/joblib/test/test_func_inspect.py\n",
            "  \u001b[31m   \u001b[0m RefactoringTool: /private/var/folders/xy/l79zrv_j6b7123v2mqf72pzw0000gp/T/pip-install-kt5xg1k7/scikit-learn_c1d43ac8a4e24053b4540611ca1e9cff/build/py3k/sklearn/externals/joblib/test/test_hashing.py\n",
            "  \u001b[31m   \u001b[0m RefactoringTool: /private/var/folders/xy/l79zrv_j6b7123v2mqf72pzw0000gp/T/pip-install-kt5xg1k7/scikit-learn_c1d43ac8a4e24053b4540611ca1e9cff/build/py3k/sklearn/externals/joblib/test/test_logger.py\n",
            "  \u001b[31m   \u001b[0m RefactoringTool: /private/var/folders/xy/l79zrv_j6b7123v2mqf72pzw0000gp/T/pip-install-kt5xg1k7/scikit-learn_c1d43ac8a4e24053b4540611ca1e9cff/build/py3k/sklearn/externals/joblib/test/test_memory.py\n",
            "  \u001b[31m   \u001b[0m RefactoringTool: /private/var/folders/xy/l79zrv_j6b7123v2mqf72pzw0000gp/T/pip-install-kt5xg1k7/scikit-learn_c1d43ac8a4e24053b4540611ca1e9cff/build/py3k/sklearn/externals/joblib/test/test_my_exceptions.py\n",
            "  \u001b[31m   \u001b[0m RefactoringTool: /private/var/folders/xy/l79zrv_j6b7123v2mqf72pzw0000gp/T/pip-install-kt5xg1k7/scikit-learn_c1d43ac8a4e24053b4540611ca1e9cff/build/py3k/sklearn/externals/joblib/test/test_numpy_pickle.py\n",
            "  \u001b[31m   \u001b[0m RefactoringTool: /private/var/folders/xy/l79zrv_j6b7123v2mqf72pzw0000gp/T/pip-install-kt5xg1k7/scikit-learn_c1d43ac8a4e24053b4540611ca1e9cff/build/py3k/sklearn/externals/joblib/test/test_parallel.py\n",
            "  \u001b[31m   \u001b[0m RefactoringTool: /private/var/folders/xy/l79zrv_j6b7123v2mqf72pzw0000gp/T/pip-install-kt5xg1k7/scikit-learn_c1d43ac8a4e24053b4540611ca1e9cff/build/py3k/sklearn/feature_extraction/__init__.py\n",
            "  \u001b[31m   \u001b[0m RefactoringTool: /private/var/folders/xy/l79zrv_j6b7123v2mqf72pzw0000gp/T/pip-install-kt5xg1k7/scikit-learn_c1d43ac8a4e24053b4540611ca1e9cff/build/py3k/sklearn/feature_extraction/image.py\n",
            "  \u001b[31m   \u001b[0m RefactoringTool: /private/var/folders/xy/l79zrv_j6b7123v2mqf72pzw0000gp/T/pip-install-kt5xg1k7/scikit-learn_c1d43ac8a4e24053b4540611ca1e9cff/build/py3k/sklearn/feature_extraction/text.py\n",
            "  \u001b[31m   \u001b[0m RefactoringTool: /private/var/folders/xy/l79zrv_j6b7123v2mqf72pzw0000gp/T/pip-install-kt5xg1k7/scikit-learn_c1d43ac8a4e24053b4540611ca1e9cff/build/py3k/sklearn/feature_extraction/tests/test_image.py\n",
            "  \u001b[31m   \u001b[0m RefactoringTool: /private/var/folders/xy/l79zrv_j6b7123v2mqf72pzw0000gp/T/pip-install-kt5xg1k7/scikit-learn_c1d43ac8a4e24053b4540611ca1e9cff/build/py3k/sklearn/feature_extraction/tests/test_text.py\n",
            "  \u001b[31m   \u001b[0m RefactoringTool: /private/var/folders/xy/l79zrv_j6b7123v2mqf72pzw0000gp/T/pip-install-kt5xg1k7/scikit-learn_c1d43ac8a4e24053b4540611ca1e9cff/build/py3k/sklearn/feature_selection/__init__.py\n",
            "  \u001b[31m   \u001b[0m RefactoringTool: /private/var/folders/xy/l79zrv_j6b7123v2mqf72pzw0000gp/T/pip-install-kt5xg1k7/scikit-learn_c1d43ac8a4e24053b4540611ca1e9cff/build/py3k/sklearn/feature_selection/rfe.py\n",
            "  \u001b[31m   \u001b[0m RefactoringTool: /private/var/folders/xy/l79zrv_j6b7123v2mqf72pzw0000gp/T/pip-install-kt5xg1k7/scikit-learn_c1d43ac8a4e24053b4540611ca1e9cff/build/py3k/sklearn/feature_selection/univariate_selection.py\n",
            "  \u001b[31m   \u001b[0m RefactoringTool: /private/var/folders/xy/l79zrv_j6b7123v2mqf72pzw0000gp/T/pip-install-kt5xg1k7/scikit-learn_c1d43ac8a4e24053b4540611ca1e9cff/build/py3k/sklearn/feature_selection/tests/test_chi2.py\n",
            "  \u001b[31m   \u001b[0m RefactoringTool: /private/var/folders/xy/l79zrv_j6b7123v2mqf72pzw0000gp/T/pip-install-kt5xg1k7/scikit-learn_c1d43ac8a4e24053b4540611ca1e9cff/build/py3k/sklearn/feature_selection/tests/test_feature_select.py\n",
            "  \u001b[31m   \u001b[0m RefactoringTool: /private/var/folders/xy/l79zrv_j6b7123v2mqf72pzw0000gp/T/pip-install-kt5xg1k7/scikit-learn_c1d43ac8a4e24053b4540611ca1e9cff/build/py3k/sklearn/feature_selection/tests/test_rfe.py\n",
            "  \u001b[31m   \u001b[0m RefactoringTool: /private/var/folders/xy/l79zrv_j6b7123v2mqf72pzw0000gp/T/pip-install-kt5xg1k7/scikit-learn_c1d43ac8a4e24053b4540611ca1e9cff/build/py3k/sklearn/gaussian_process/__init__.py\n",
            "  \u001b[31m   \u001b[0m RefactoringTool: /private/var/folders/xy/l79zrv_j6b7123v2mqf72pzw0000gp/T/pip-install-kt5xg1k7/scikit-learn_c1d43ac8a4e24053b4540611ca1e9cff/build/py3k/sklearn/gaussian_process/correlation_models.py\n",
            "  \u001b[31m   \u001b[0m RefactoringTool: /private/var/folders/xy/l79zrv_j6b7123v2mqf72pzw0000gp/T/pip-install-kt5xg1k7/scikit-learn_c1d43ac8a4e24053b4540611ca1e9cff/build/py3k/sklearn/gaussian_process/gaussian_process.py\n",
            "  \u001b[31m   \u001b[0m RefactoringTool: /private/var/folders/xy/l79zrv_j6b7123v2mqf72pzw0000gp/T/pip-install-kt5xg1k7/scikit-learn_c1d43ac8a4e24053b4540611ca1e9cff/build/py3k/sklearn/gaussian_process/regression_models.py\n",
            "  \u001b[31m   \u001b[0m RefactoringTool: /private/var/folders/xy/l79zrv_j6b7123v2mqf72pzw0000gp/T/pip-install-kt5xg1k7/scikit-learn_c1d43ac8a4e24053b4540611ca1e9cff/build/py3k/sklearn/gaussian_process/tests/test_gaussian_process.py\n",
            "  \u001b[31m   \u001b[0m RefactoringTool: /private/var/folders/xy/l79zrv_j6b7123v2mqf72pzw0000gp/T/pip-install-kt5xg1k7/scikit-learn_c1d43ac8a4e24053b4540611ca1e9cff/build/py3k/sklearn/linear_model/__init__.py\n",
            "  \u001b[31m   \u001b[0m RefactoringTool: /private/var/folders/xy/l79zrv_j6b7123v2mqf72pzw0000gp/T/pip-install-kt5xg1k7/scikit-learn_c1d43ac8a4e24053b4540611ca1e9cff/build/py3k/sklearn/linear_model/base.py\n",
            "  \u001b[31m   \u001b[0m RefactoringTool: /private/var/folders/xy/l79zrv_j6b7123v2mqf72pzw0000gp/T/pip-install-kt5xg1k7/scikit-learn_c1d43ac8a4e24053b4540611ca1e9cff/build/py3k/sklearn/linear_model/bayes.py\n",
            "  \u001b[31m   \u001b[0m RefactoringTool: /private/var/folders/xy/l79zrv_j6b7123v2mqf72pzw0000gp/T/pip-install-kt5xg1k7/scikit-learn_c1d43ac8a4e24053b4540611ca1e9cff/build/py3k/sklearn/linear_model/coordinate_descent.py\n",
            "  \u001b[31m   \u001b[0m RefactoringTool: /private/var/folders/xy/l79zrv_j6b7123v2mqf72pzw0000gp/T/pip-install-kt5xg1k7/scikit-learn_c1d43ac8a4e24053b4540611ca1e9cff/build/py3k/sklearn/linear_model/least_angle.py\n",
            "  \u001b[31m   \u001b[0m RefactoringTool: /private/var/folders/xy/l79zrv_j6b7123v2mqf72pzw0000gp/T/pip-install-kt5xg1k7/scikit-learn_c1d43ac8a4e24053b4540611ca1e9cff/build/py3k/sklearn/linear_model/logistic.py\n",
            "  \u001b[31m   \u001b[0m RefactoringTool: /private/var/folders/xy/l79zrv_j6b7123v2mqf72pzw0000gp/T/pip-install-kt5xg1k7/scikit-learn_c1d43ac8a4e24053b4540611ca1e9cff/build/py3k/sklearn/linear_model/omp.py\n",
            "  \u001b[31m   \u001b[0m RefactoringTool: /private/var/folders/xy/l79zrv_j6b7123v2mqf72pzw0000gp/T/pip-install-kt5xg1k7/scikit-learn_c1d43ac8a4e24053b4540611ca1e9cff/build/py3k/sklearn/linear_model/ridge.py\n",
            "  \u001b[31m   \u001b[0m RefactoringTool: /private/var/folders/xy/l79zrv_j6b7123v2mqf72pzw0000gp/T/pip-install-kt5xg1k7/scikit-learn_c1d43ac8a4e24053b4540611ca1e9cff/build/py3k/sklearn/linear_model/setup.py\n",
            "  \u001b[31m   \u001b[0m RefactoringTool: /private/var/folders/xy/l79zrv_j6b7123v2mqf72pzw0000gp/T/pip-install-kt5xg1k7/scikit-learn_c1d43ac8a4e24053b4540611ca1e9cff/build/py3k/sklearn/linear_model/stochastic_gradient.py\n",
            "  \u001b[31m   \u001b[0m RefactoringTool: /private/var/folders/xy/l79zrv_j6b7123v2mqf72pzw0000gp/T/pip-install-kt5xg1k7/scikit-learn_c1d43ac8a4e24053b4540611ca1e9cff/build/py3k/sklearn/linear_model/sparse/__init__.py\n",
            "  \u001b[31m   \u001b[0m RefactoringTool: /private/var/folders/xy/l79zrv_j6b7123v2mqf72pzw0000gp/T/pip-install-kt5xg1k7/scikit-learn_c1d43ac8a4e24053b4540611ca1e9cff/build/py3k/sklearn/linear_model/sparse/base.py\n",
            "  \u001b[31m   \u001b[0m RefactoringTool: /private/var/folders/xy/l79zrv_j6b7123v2mqf72pzw0000gp/T/pip-install-kt5xg1k7/scikit-learn_c1d43ac8a4e24053b4540611ca1e9cff/build/py3k/sklearn/linear_model/sparse/coordinate_descent.py\n",
            "  \u001b[31m   \u001b[0m RefactoringTool: /private/var/folders/xy/l79zrv_j6b7123v2mqf72pzw0000gp/T/pip-install-kt5xg1k7/scikit-learn_c1d43ac8a4e24053b4540611ca1e9cff/build/py3k/sklearn/linear_model/sparse/logistic.py\n",
            "  \u001b[31m   \u001b[0m RefactoringTool: /private/var/folders/xy/l79zrv_j6b7123v2mqf72pzw0000gp/T/pip-install-kt5xg1k7/scikit-learn_c1d43ac8a4e24053b4540611ca1e9cff/build/py3k/sklearn/linear_model/sparse/setup.py\n",
            "  \u001b[31m   \u001b[0m RefactoringTool: /private/var/folders/xy/l79zrv_j6b7123v2mqf72pzw0000gp/T/pip-install-kt5xg1k7/scikit-learn_c1d43ac8a4e24053b4540611ca1e9cff/build/py3k/sklearn/linear_model/sparse/stochastic_gradient.py\n",
            "  \u001b[31m   \u001b[0m RefactoringTool: /private/var/folders/xy/l79zrv_j6b7123v2mqf72pzw0000gp/T/pip-install-kt5xg1k7/scikit-learn_c1d43ac8a4e24053b4540611ca1e9cff/build/py3k/sklearn/linear_model/sparse/tests/test_coordinate_descent.py\n",
            "  \u001b[31m   \u001b[0m RefactoringTool: /private/var/folders/xy/l79zrv_j6b7123v2mqf72pzw0000gp/T/pip-install-kt5xg1k7/scikit-learn_c1d43ac8a4e24053b4540611ca1e9cff/build/py3k/sklearn/linear_model/sparse/tests/test_logistic.py\n",
            "  \u001b[31m   \u001b[0m RefactoringTool: /private/var/folders/xy/l79zrv_j6b7123v2mqf72pzw0000gp/T/pip-install-kt5xg1k7/scikit-learn_c1d43ac8a4e24053b4540611ca1e9cff/build/py3k/sklearn/linear_model/tests/test_base.py\n",
            "  \u001b[31m   \u001b[0m RefactoringTool: /private/var/folders/xy/l79zrv_j6b7123v2mqf72pzw0000gp/T/pip-install-kt5xg1k7/scikit-learn_c1d43ac8a4e24053b4540611ca1e9cff/build/py3k/sklearn/linear_model/tests/test_bayes.py\n",
            "  \u001b[31m   \u001b[0m RefactoringTool: /private/var/folders/xy/l79zrv_j6b7123v2mqf72pzw0000gp/T/pip-install-kt5xg1k7/scikit-learn_c1d43ac8a4e24053b4540611ca1e9cff/build/py3k/sklearn/linear_model/tests/test_coordinate_descent.py\n",
            "  \u001b[31m   \u001b[0m RefactoringTool: /private/var/folders/xy/l79zrv_j6b7123v2mqf72pzw0000gp/T/pip-install-kt5xg1k7/scikit-learn_c1d43ac8a4e24053b4540611ca1e9cff/build/py3k/sklearn/linear_model/tests/test_least_angle.py\n",
            "  \u001b[31m   \u001b[0m RefactoringTool: /private/var/folders/xy/l79zrv_j6b7123v2mqf72pzw0000gp/T/pip-install-kt5xg1k7/scikit-learn_c1d43ac8a4e24053b4540611ca1e9cff/build/py3k/sklearn/linear_model/tests/test_logistic.py\n",
            "  \u001b[31m   \u001b[0m RefactoringTool: /private/var/folders/xy/l79zrv_j6b7123v2mqf72pzw0000gp/T/pip-install-kt5xg1k7/scikit-learn_c1d43ac8a4e24053b4540611ca1e9cff/build/py3k/sklearn/linear_model/tests/test_omp.py\n",
            "  \u001b[31m   \u001b[0m RefactoringTool: /private/var/folders/xy/l79zrv_j6b7123v2mqf72pzw0000gp/T/pip-install-kt5xg1k7/scikit-learn_c1d43ac8a4e24053b4540611ca1e9cff/build/py3k/sklearn/linear_model/tests/test_ridge.py\n",
            "  \u001b[31m   \u001b[0m RefactoringTool: /private/var/folders/xy/l79zrv_j6b7123v2mqf72pzw0000gp/T/pip-install-kt5xg1k7/scikit-learn_c1d43ac8a4e24053b4540611ca1e9cff/build/py3k/sklearn/linear_model/tests/test_sgd.py\n",
            "  \u001b[31m   \u001b[0m RefactoringTool: /private/var/folders/xy/l79zrv_j6b7123v2mqf72pzw0000gp/T/pip-install-kt5xg1k7/scikit-learn_c1d43ac8a4e24053b4540611ca1e9cff/build/py3k/sklearn/manifold/isomap.py\n",
            "  \u001b[31m   \u001b[0m RefactoringTool: /private/var/folders/xy/l79zrv_j6b7123v2mqf72pzw0000gp/T/pip-install-kt5xg1k7/scikit-learn_c1d43ac8a4e24053b4540611ca1e9cff/build/py3k/sklearn/manifold/locally_linear.py\n",
            "  \u001b[31m   \u001b[0m RefactoringTool: /private/var/folders/xy/l79zrv_j6b7123v2mqf72pzw0000gp/T/pip-install-kt5xg1k7/scikit-learn_c1d43ac8a4e24053b4540611ca1e9cff/build/py3k/sklearn/manifold/tests/test_isomap.py\n",
            "  \u001b[31m   \u001b[0m RefactoringTool: /private/var/folders/xy/l79zrv_j6b7123v2mqf72pzw0000gp/T/pip-install-kt5xg1k7/scikit-learn_c1d43ac8a4e24053b4540611ca1e9cff/build/py3k/sklearn/manifold/tests/test_locally_linear.py\n",
            "  \u001b[31m   \u001b[0m RefactoringTool: /private/var/folders/xy/l79zrv_j6b7123v2mqf72pzw0000gp/T/pip-install-kt5xg1k7/scikit-learn_c1d43ac8a4e24053b4540611ca1e9cff/build/py3k/sklearn/metrics/__init__.py\n",
            "  \u001b[31m   \u001b[0m RefactoringTool: /private/var/folders/xy/l79zrv_j6b7123v2mqf72pzw0000gp/T/pip-install-kt5xg1k7/scikit-learn_c1d43ac8a4e24053b4540611ca1e9cff/build/py3k/sklearn/metrics/cluster.py\n",
            "  \u001b[31m   \u001b[0m RefactoringTool: /private/var/folders/xy/l79zrv_j6b7123v2mqf72pzw0000gp/T/pip-install-kt5xg1k7/scikit-learn_c1d43ac8a4e24053b4540611ca1e9cff/build/py3k/sklearn/metrics/metrics.py\n",
            "  \u001b[31m   \u001b[0m RefactoringTool: /private/var/folders/xy/l79zrv_j6b7123v2mqf72pzw0000gp/T/pip-install-kt5xg1k7/scikit-learn_c1d43ac8a4e24053b4540611ca1e9cff/build/py3k/sklearn/metrics/pairwise.py\n",
            "  \u001b[31m   \u001b[0m RefactoringTool: /private/var/folders/xy/l79zrv_j6b7123v2mqf72pzw0000gp/T/pip-install-kt5xg1k7/scikit-learn_c1d43ac8a4e24053b4540611ca1e9cff/build/py3k/sklearn/metrics/tests/test_cluster.py\n",
            "  \u001b[31m   \u001b[0m RefactoringTool: /private/var/folders/xy/l79zrv_j6b7123v2mqf72pzw0000gp/T/pip-install-kt5xg1k7/scikit-learn_c1d43ac8a4e24053b4540611ca1e9cff/build/py3k/sklearn/metrics/tests/test_metrics.py\n",
            "  \u001b[31m   \u001b[0m RefactoringTool: /private/var/folders/xy/l79zrv_j6b7123v2mqf72pzw0000gp/T/pip-install-kt5xg1k7/scikit-learn_c1d43ac8a4e24053b4540611ca1e9cff/build/py3k/sklearn/metrics/tests/test_pairwise.py\n",
            "  \u001b[31m   \u001b[0m RefactoringTool: /private/var/folders/xy/l79zrv_j6b7123v2mqf72pzw0000gp/T/pip-install-kt5xg1k7/scikit-learn_c1d43ac8a4e24053b4540611ca1e9cff/build/py3k/sklearn/mixture/__init__.py\n",
            "  \u001b[31m   \u001b[0m RefactoringTool: /private/var/folders/xy/l79zrv_j6b7123v2mqf72pzw0000gp/T/pip-install-kt5xg1k7/scikit-learn_c1d43ac8a4e24053b4540611ca1e9cff/build/py3k/sklearn/mixture/dpgmm.py\n",
            "  \u001b[31m   \u001b[0m RefactoringTool: /private/var/folders/xy/l79zrv_j6b7123v2mqf72pzw0000gp/T/pip-install-kt5xg1k7/scikit-learn_c1d43ac8a4e24053b4540611ca1e9cff/build/py3k/sklearn/mixture/gmm.py\n",
            "  \u001b[31m   \u001b[0m RefactoringTool: /private/var/folders/xy/l79zrv_j6b7123v2mqf72pzw0000gp/T/pip-install-kt5xg1k7/scikit-learn_c1d43ac8a4e24053b4540611ca1e9cff/build/py3k/sklearn/mixture/tests/test_dpgmm.py\n",
            "  \u001b[31m   \u001b[0m RefactoringTool: /private/var/folders/xy/l79zrv_j6b7123v2mqf72pzw0000gp/T/pip-install-kt5xg1k7/scikit-learn_c1d43ac8a4e24053b4540611ca1e9cff/build/py3k/sklearn/mixture/tests/test_gmm.py\n",
            "  \u001b[31m   \u001b[0m RefactoringTool: /private/var/folders/xy/l79zrv_j6b7123v2mqf72pzw0000gp/T/pip-install-kt5xg1k7/scikit-learn_c1d43ac8a4e24053b4540611ca1e9cff/build/py3k/sklearn/neighbors/__init__.py\n",
            "  \u001b[31m   \u001b[0m RefactoringTool: /private/var/folders/xy/l79zrv_j6b7123v2mqf72pzw0000gp/T/pip-install-kt5xg1k7/scikit-learn_c1d43ac8a4e24053b4540611ca1e9cff/build/py3k/sklearn/neighbors/base.py\n",
            "  \u001b[31m   \u001b[0m RefactoringTool: /private/var/folders/xy/l79zrv_j6b7123v2mqf72pzw0000gp/T/pip-install-kt5xg1k7/scikit-learn_c1d43ac8a4e24053b4540611ca1e9cff/build/py3k/sklearn/neighbors/classification.py\n",
            "  \u001b[31m   \u001b[0m RefactoringTool: /private/var/folders/xy/l79zrv_j6b7123v2mqf72pzw0000gp/T/pip-install-kt5xg1k7/scikit-learn_c1d43ac8a4e24053b4540611ca1e9cff/build/py3k/sklearn/neighbors/graph.py\n",
            "  \u001b[31m   \u001b[0m RefactoringTool: /private/var/folders/xy/l79zrv_j6b7123v2mqf72pzw0000gp/T/pip-install-kt5xg1k7/scikit-learn_c1d43ac8a4e24053b4540611ca1e9cff/build/py3k/sklearn/neighbors/regression.py\n",
            "  \u001b[31m   \u001b[0m RefactoringTool: /private/var/folders/xy/l79zrv_j6b7123v2mqf72pzw0000gp/T/pip-install-kt5xg1k7/scikit-learn_c1d43ac8a4e24053b4540611ca1e9cff/build/py3k/sklearn/neighbors/setup.py\n",
            "  \u001b[31m   \u001b[0m RefactoringTool: /private/var/folders/xy/l79zrv_j6b7123v2mqf72pzw0000gp/T/pip-install-kt5xg1k7/scikit-learn_c1d43ac8a4e24053b4540611ca1e9cff/build/py3k/sklearn/neighbors/unsupervised.py\n",
            "  \u001b[31m   \u001b[0m RefactoringTool: /private/var/folders/xy/l79zrv_j6b7123v2mqf72pzw0000gp/T/pip-install-kt5xg1k7/scikit-learn_c1d43ac8a4e24053b4540611ca1e9cff/build/py3k/sklearn/neighbors/tests/test_ball_tree.py\n",
            "  \u001b[31m   \u001b[0m RefactoringTool: /private/var/folders/xy/l79zrv_j6b7123v2mqf72pzw0000gp/T/pip-install-kt5xg1k7/scikit-learn_c1d43ac8a4e24053b4540611ca1e9cff/build/py3k/sklearn/neighbors/tests/test_neighbors.py\n",
            "  \u001b[31m   \u001b[0m RefactoringTool: /private/var/folders/xy/l79zrv_j6b7123v2mqf72pzw0000gp/T/pip-install-kt5xg1k7/scikit-learn_c1d43ac8a4e24053b4540611ca1e9cff/build/py3k/sklearn/preprocessing/__init__.py\n",
            "  \u001b[31m   \u001b[0m RefactoringTool: /private/var/folders/xy/l79zrv_j6b7123v2mqf72pzw0000gp/T/pip-install-kt5xg1k7/scikit-learn_c1d43ac8a4e24053b4540611ca1e9cff/build/py3k/sklearn/preprocessing/setup.py\n",
            "  \u001b[31m   \u001b[0m RefactoringTool: /private/var/folders/xy/l79zrv_j6b7123v2mqf72pzw0000gp/T/pip-install-kt5xg1k7/scikit-learn_c1d43ac8a4e24053b4540611ca1e9cff/build/py3k/sklearn/preprocessing/tests/test_preprocessing.py\n",
            "  \u001b[31m   \u001b[0m RefactoringTool: /private/var/folders/xy/l79zrv_j6b7123v2mqf72pzw0000gp/T/pip-install-kt5xg1k7/scikit-learn_c1d43ac8a4e24053b4540611ca1e9cff/build/py3k/sklearn/svm/__init__.py\n",
            "  \u001b[31m   \u001b[0m RefactoringTool: /private/var/folders/xy/l79zrv_j6b7123v2mqf72pzw0000gp/T/pip-install-kt5xg1k7/scikit-learn_c1d43ac8a4e24053b4540611ca1e9cff/build/py3k/sklearn/svm/base.py\n",
            "  \u001b[31m   \u001b[0m RefactoringTool: /private/var/folders/xy/l79zrv_j6b7123v2mqf72pzw0000gp/T/pip-install-kt5xg1k7/scikit-learn_c1d43ac8a4e24053b4540611ca1e9cff/build/py3k/sklearn/svm/bounds.py\n",
            "  \u001b[31m   \u001b[0m RefactoringTool: /private/var/folders/xy/l79zrv_j6b7123v2mqf72pzw0000gp/T/pip-install-kt5xg1k7/scikit-learn_c1d43ac8a4e24053b4540611ca1e9cff/build/py3k/sklearn/svm/classes.py\n",
            "  \u001b[31m   \u001b[0m RefactoringTool: /private/var/folders/xy/l79zrv_j6b7123v2mqf72pzw0000gp/T/pip-install-kt5xg1k7/scikit-learn_c1d43ac8a4e24053b4540611ca1e9cff/build/py3k/sklearn/svm/setup.py\n",
            "  \u001b[31m   \u001b[0m RefactoringTool: /private/var/folders/xy/l79zrv_j6b7123v2mqf72pzw0000gp/T/pip-install-kt5xg1k7/scikit-learn_c1d43ac8a4e24053b4540611ca1e9cff/build/py3k/sklearn/svm/sparse/__init__.py\n",
            "  \u001b[31m   \u001b[0m RefactoringTool: /private/var/folders/xy/l79zrv_j6b7123v2mqf72pzw0000gp/T/pip-install-kt5xg1k7/scikit-learn_c1d43ac8a4e24053b4540611ca1e9cff/build/py3k/sklearn/svm/sparse/base.py\n",
            "  \u001b[31m   \u001b[0m RefactoringTool: /private/var/folders/xy/l79zrv_j6b7123v2mqf72pzw0000gp/T/pip-install-kt5xg1k7/scikit-learn_c1d43ac8a4e24053b4540611ca1e9cff/build/py3k/sklearn/svm/sparse/classes.py\n",
            "  \u001b[31m   \u001b[0m RefactoringTool: /private/var/folders/xy/l79zrv_j6b7123v2mqf72pzw0000gp/T/pip-install-kt5xg1k7/scikit-learn_c1d43ac8a4e24053b4540611ca1e9cff/build/py3k/sklearn/svm/sparse/setup.py\n",
            "  \u001b[31m   \u001b[0m RefactoringTool: /private/var/folders/xy/l79zrv_j6b7123v2mqf72pzw0000gp/T/pip-install-kt5xg1k7/scikit-learn_c1d43ac8a4e24053b4540611ca1e9cff/build/py3k/sklearn/svm/tests/test_bounds.py\n",
            "  \u001b[31m   \u001b[0m RefactoringTool: /private/var/folders/xy/l79zrv_j6b7123v2mqf72pzw0000gp/T/pip-install-kt5xg1k7/scikit-learn_c1d43ac8a4e24053b4540611ca1e9cff/build/py3k/sklearn/svm/tests/test_sparse.py\n",
            "  \u001b[31m   \u001b[0m RefactoringTool: /private/var/folders/xy/l79zrv_j6b7123v2mqf72pzw0000gp/T/pip-install-kt5xg1k7/scikit-learn_c1d43ac8a4e24053b4540611ca1e9cff/build/py3k/sklearn/svm/tests/test_svm.py\n",
            "  \u001b[31m   \u001b[0m RefactoringTool: /private/var/folders/xy/l79zrv_j6b7123v2mqf72pzw0000gp/T/pip-install-kt5xg1k7/scikit-learn_c1d43ac8a4e24053b4540611ca1e9cff/build/py3k/sklearn/tests/test_base.py\n",
            "  \u001b[31m   \u001b[0m RefactoringTool: /private/var/folders/xy/l79zrv_j6b7123v2mqf72pzw0000gp/T/pip-install-kt5xg1k7/scikit-learn_c1d43ac8a4e24053b4540611ca1e9cff/build/py3k/sklearn/tests/test_cross_validation.py\n",
            "  \u001b[31m   \u001b[0m RefactoringTool: /private/var/folders/xy/l79zrv_j6b7123v2mqf72pzw0000gp/T/pip-install-kt5xg1k7/scikit-learn_c1d43ac8a4e24053b4540611ca1e9cff/build/py3k/sklearn/tests/test_grid_search.py\n",
            "  \u001b[31m   \u001b[0m RefactoringTool: /private/var/folders/xy/l79zrv_j6b7123v2mqf72pzw0000gp/T/pip-install-kt5xg1k7/scikit-learn_c1d43ac8a4e24053b4540611ca1e9cff/build/py3k/sklearn/tests/test_hmm.py\n",
            "  \u001b[31m   \u001b[0m RefactoringTool: /private/var/folders/xy/l79zrv_j6b7123v2mqf72pzw0000gp/T/pip-install-kt5xg1k7/scikit-learn_c1d43ac8a4e24053b4540611ca1e9cff/build/py3k/sklearn/tests/test_init.py\n",
            "  \u001b[31m   \u001b[0m RefactoringTool: /private/var/folders/xy/l79zrv_j6b7123v2mqf72pzw0000gp/T/pip-install-kt5xg1k7/scikit-learn_c1d43ac8a4e24053b4540611ca1e9cff/build/py3k/sklearn/tests/test_lda.py\n",
            "  \u001b[31m   \u001b[0m RefactoringTool: /private/var/folders/xy/l79zrv_j6b7123v2mqf72pzw0000gp/T/pip-install-kt5xg1k7/scikit-learn_c1d43ac8a4e24053b4540611ca1e9cff/build/py3k/sklearn/tests/test_multiclass.py\n",
            "  \u001b[31m   \u001b[0m RefactoringTool: /private/var/folders/xy/l79zrv_j6b7123v2mqf72pzw0000gp/T/pip-install-kt5xg1k7/scikit-learn_c1d43ac8a4e24053b4540611ca1e9cff/build/py3k/sklearn/tests/test_naive_bayes.py\n",
            "  \u001b[31m   \u001b[0m RefactoringTool: /private/var/folders/xy/l79zrv_j6b7123v2mqf72pzw0000gp/T/pip-install-kt5xg1k7/scikit-learn_c1d43ac8a4e24053b4540611ca1e9cff/build/py3k/sklearn/tests/test_pipeline.py\n",
            "  \u001b[31m   \u001b[0m RefactoringTool: /private/var/folders/xy/l79zrv_j6b7123v2mqf72pzw0000gp/T/pip-install-kt5xg1k7/scikit-learn_c1d43ac8a4e24053b4540611ca1e9cff/build/py3k/sklearn/tests/test_pls.py\n",
            "  \u001b[31m   \u001b[0m RefactoringTool: /private/var/folders/xy/l79zrv_j6b7123v2mqf72pzw0000gp/T/pip-install-kt5xg1k7/scikit-learn_c1d43ac8a4e24053b4540611ca1e9cff/build/py3k/sklearn/tests/test_qda.py\n",
            "  \u001b[31m   \u001b[0m RefactoringTool: /private/var/folders/xy/l79zrv_j6b7123v2mqf72pzw0000gp/T/pip-install-kt5xg1k7/scikit-learn_c1d43ac8a4e24053b4540611ca1e9cff/build/py3k/sklearn/utils/__init__.py\n",
            "  \u001b[31m   \u001b[0m RefactoringTool: /private/var/folders/xy/l79zrv_j6b7123v2mqf72pzw0000gp/T/pip-install-kt5xg1k7/scikit-learn_c1d43ac8a4e24053b4540611ca1e9cff/build/py3k/sklearn/utils/_csgraph.py\n",
            "  \u001b[31m   \u001b[0m RefactoringTool: /private/var/folders/xy/l79zrv_j6b7123v2mqf72pzw0000gp/T/pip-install-kt5xg1k7/scikit-learn_c1d43ac8a4e24053b4540611ca1e9cff/build/py3k/sklearn/utils/arpack.py\n",
            "  \u001b[31m   \u001b[0m RefactoringTool: /private/var/folders/xy/l79zrv_j6b7123v2mqf72pzw0000gp/T/pip-install-kt5xg1k7/scikit-learn_c1d43ac8a4e24053b4540611ca1e9cff/build/py3k/sklearn/utils/bench.py\n",
            "  \u001b[31m   \u001b[0m RefactoringTool: /private/var/folders/xy/l79zrv_j6b7123v2mqf72pzw0000gp/T/pip-install-kt5xg1k7/scikit-learn_c1d43ac8a4e24053b4540611ca1e9cff/build/py3k/sklearn/utils/extmath.py\n",
            "  \u001b[31m   \u001b[0m RefactoringTool: /private/var/folders/xy/l79zrv_j6b7123v2mqf72pzw0000gp/T/pip-install-kt5xg1k7/scikit-learn_c1d43ac8a4e24053b4540611ca1e9cff/build/py3k/sklearn/utils/fixes.py\n",
            "  \u001b[31m   \u001b[0m RefactoringTool: /private/var/folders/xy/l79zrv_j6b7123v2mqf72pzw0000gp/T/pip-install-kt5xg1k7/scikit-learn_c1d43ac8a4e24053b4540611ca1e9cff/build/py3k/sklearn/utils/graph.py\n",
            "  \u001b[31m   \u001b[0m RefactoringTool: /private/var/folders/xy/l79zrv_j6b7123v2mqf72pzw0000gp/T/pip-install-kt5xg1k7/scikit-learn_c1d43ac8a4e24053b4540611ca1e9cff/build/py3k/sklearn/utils/setup.py\n",
            "  \u001b[31m   \u001b[0m RefactoringTool: /private/var/folders/xy/l79zrv_j6b7123v2mqf72pzw0000gp/T/pip-install-kt5xg1k7/scikit-learn_c1d43ac8a4e24053b4540611ca1e9cff/build/py3k/sklearn/utils/testing.py\n",
            "  \u001b[31m   \u001b[0m RefactoringTool: /private/var/folders/xy/l79zrv_j6b7123v2mqf72pzw0000gp/T/pip-install-kt5xg1k7/scikit-learn_c1d43ac8a4e24053b4540611ca1e9cff/build/py3k/sklearn/utils/sparsetools/__init__.py\n",
            "  \u001b[31m   \u001b[0m RefactoringTool: /private/var/folders/xy/l79zrv_j6b7123v2mqf72pzw0000gp/T/pip-install-kt5xg1k7/scikit-learn_c1d43ac8a4e24053b4540611ca1e9cff/build/py3k/sklearn/utils/sparsetools/csgraph.py\n",
            "  \u001b[31m   \u001b[0m RefactoringTool: /private/var/folders/xy/l79zrv_j6b7123v2mqf72pzw0000gp/T/pip-install-kt5xg1k7/scikit-learn_c1d43ac8a4e24053b4540611ca1e9cff/build/py3k/sklearn/utils/sparsetools/setup.py\n",
            "  \u001b[31m   \u001b[0m RefactoringTool: /private/var/folders/xy/l79zrv_j6b7123v2mqf72pzw0000gp/T/pip-install-kt5xg1k7/scikit-learn_c1d43ac8a4e24053b4540611ca1e9cff/build/py3k/sklearn/utils/tests/test___init__.py\n",
            "  \u001b[31m   \u001b[0m RefactoringTool: /private/var/folders/xy/l79zrv_j6b7123v2mqf72pzw0000gp/T/pip-install-kt5xg1k7/scikit-learn_c1d43ac8a4e24053b4540611ca1e9cff/build/py3k/sklearn/utils/tests/test_fixes.py\n",
            "  \u001b[31m   \u001b[0m RefactoringTool: /private/var/folders/xy/l79zrv_j6b7123v2mqf72pzw0000gp/T/pip-install-kt5xg1k7/scikit-learn_c1d43ac8a4e24053b4540611ca1e9cff/build/py3k/sklearn/utils/tests/test_graph.py\n",
            "  \u001b[31m   \u001b[0m RefactoringTool: /private/var/folders/xy/l79zrv_j6b7123v2mqf72pzw0000gp/T/pip-install-kt5xg1k7/scikit-learn_c1d43ac8a4e24053b4540611ca1e9cff/build/py3k/sklearn/utils/tests/test_shortest_path.py\n",
            "  \u001b[31m   \u001b[0m RefactoringTool: /private/var/folders/xy/l79zrv_j6b7123v2mqf72pzw0000gp/T/pip-install-kt5xg1k7/scikit-learn_c1d43ac8a4e24053b4540611ca1e9cff/build/py3k/sklearn/utils/tests/test_svd.py\n",
            "  \u001b[31m   \u001b[0m RefactoringTool: /private/var/folders/xy/l79zrv_j6b7123v2mqf72pzw0000gp/T/pip-install-kt5xg1k7/scikit-learn_c1d43ac8a4e24053b4540611ca1e9cff/build/py3k/sklearn/utils/tests/test_utils.py\n",
            "  \u001b[31m   \u001b[0m RefactoringTool: /private/var/folders/xy/l79zrv_j6b7123v2mqf72pzw0000gp/T/pip-install-kt5xg1k7/scikit-learn_c1d43ac8a4e24053b4540611ca1e9cff/build/py3k/sklearn/utils/tests/test_weighted_mode.py\n",
            "  \u001b[31m   \u001b[0m Warning: Assuming default configuration (scikits/learn/{setup_scikits.learn,setup}.py was not found)\n",
            "  \u001b[31m   \u001b[0m Traceback (most recent call last):\n",
            "  \u001b[31m   \u001b[0m   File \"<string>\", line 2, in <module>\n",
            "  \u001b[31m   \u001b[0m   File \"<pip-setuptools-caller>\", line 34, in <module>\n",
            "  \u001b[31m   \u001b[0m   File \"/private/var/folders/xy/l79zrv_j6b7123v2mqf72pzw0000gp/T/pip-install-kt5xg1k7/scikit-learn_c1d43ac8a4e24053b4540611ca1e9cff/setup.py\", line 76, in <module>\n",
            "  \u001b[31m   \u001b[0m     setup(configuration=configuration,\n",
            "  \u001b[31m   \u001b[0m   File \"/Users/levkasenko/opt/anaconda3/lib/python3.9/site-packages/numpy/distutils/core.py\", line 135, in setup\n",
            "  \u001b[31m   \u001b[0m     config = configuration()\n",
            "  \u001b[31m   \u001b[0m   File \"/private/var/folders/xy/l79zrv_j6b7123v2mqf72pzw0000gp/T/pip-install-kt5xg1k7/scikit-learn_c1d43ac8a4e24053b4540611ca1e9cff/setup.py\", line 34, in configuration\n",
            "  \u001b[31m   \u001b[0m     config.add_subpackage('scikits.learn')\n",
            "  \u001b[31m   \u001b[0m   File \"/Users/levkasenko/opt/anaconda3/lib/python3.9/site-packages/numpy/distutils/misc_util.py\", line 1054, in add_subpackage\n",
            "  \u001b[31m   \u001b[0m     config_list = self.get_subpackage(subpackage_name, subpackage_path,\n",
            "  \u001b[31m   \u001b[0m   File \"/Users/levkasenko/opt/anaconda3/lib/python3.9/site-packages/numpy/distutils/misc_util.py\", line 1016, in get_subpackage\n",
            "  \u001b[31m   \u001b[0m     config = Configuration(subpackage_name, parent_name,\n",
            "  \u001b[31m   \u001b[0m   File \"/Users/levkasenko/opt/anaconda3/lib/python3.9/site-packages/numpy/distutils/misc_util.py\", line 811, in __init__\n",
            "  \u001b[31m   \u001b[0m     raise ValueError(\"%r is not a directory\" % (package_path,))\n",
            "  \u001b[31m   \u001b[0m ValueError: 'scikits/learn' is not a directory\n",
            "  \u001b[31m   \u001b[0m \u001b[31m[end of output]\u001b[0m\n",
            "  \n",
            "  \u001b[1;35mnote\u001b[0m: This error originates from a subprocess, and is likely not a problem with pip.\n",
            "\u001b[?25h\u001b[1;31merror\u001b[0m: \u001b[1mmetadata-generation-failed\u001b[0m\n",
            "\n",
            "\u001b[31m×\u001b[0m Encountered error while generating package metadata.\n",
            "\u001b[31m╰─>\u001b[0m See above for output.\n",
            "\n",
            "\u001b[1;35mnote\u001b[0m: This is an issue with the package mentioned above, not pip.\n",
            "\u001b[1;36mhint\u001b[0m: See above for details.\n"
          ]
        }
      ],
      "source": [
        "!pip install -r requirements.txt"
      ]
    },
    {
      "cell_type": "code",
      "execution_count": 1,
      "metadata": {
        "id": "-tsq1G0m7sdr"
      },
      "outputs": [
        {
          "name": "stderr",
          "output_type": "stream",
          "text": [
            "/Users/levkasenko/opt/anaconda3/lib/python3.9/site-packages/pandas/core/computation/expressions.py:21: UserWarning: Pandas requires version '2.8.4' or newer of 'numexpr' (version '2.8.1' currently installed).\n",
            "  from pandas.core.computation.check import NUMEXPR_INSTALLED\n",
            "/Users/levkasenko/opt/anaconda3/lib/python3.9/site-packages/pandas/core/arrays/masked.py:60: UserWarning: Pandas requires version '1.3.6' or newer of 'bottleneck' (version '1.3.4' currently installed).\n",
            "  from pandas.core import (\n"
          ]
        }
      ],
      "source": [
        "import pandas as pd\n",
        "from sklearn.utils import shuffle"
      ]
    },
    {
      "cell_type": "code",
      "execution_count": 2,
      "metadata": {
        "colab": {
          "base_uri": "https://localhost:8080/",
          "height": 367
        },
        "id": "GDgGKZmU7t3N",
        "outputId": "0aac48d1-0877-4231-f40f-777d9abe59cc"
      },
      "outputs": [],
      "source": [
        "dt1 = pd.read_csv('data/pyt_dataset_1.csv')\n",
        "dt2 = pd.read_csv('data/pyt_dataset_2.csv')\n",
        "dt3 = pd.read_csv('data/pyt_dataset_3.csv')\n",
        "dt4 = pd.read_csv('data/pyt_dataset_4.csv')"
      ]
    },
    {
      "cell_type": "code",
      "execution_count": 3,
      "metadata": {
        "id": "RCD3tbozMpM9"
      },
      "outputs": [],
      "source": [
        "dt1.insert(1, \"target\", [0] * 1648, True)\n",
        "dt2.insert(1, \"target\", [1] * 824, True)\n",
        "dt3.insert(1, \"target\", [0] * 732, True)\n",
        "dt4.insert(1, \"target\", [1] * 823, True)"
      ]
    },
    {
      "cell_type": "code",
      "execution_count": 4,
      "metadata": {
        "id": "ajttFIHFMfnG"
      },
      "outputs": [],
      "source": [
        "combined_df = pd.concat([dt1, dt2])\n",
        "combined_df2 = pd.concat([dt3, dt4])"
      ]
    },
    {
      "cell_type": "code",
      "execution_count": 5,
      "metadata": {
        "id": "l24IM6gQNOfR"
      },
      "outputs": [],
      "source": [
        "shuffled_df = shuffle(combined_df)\n",
        "shuffled_df2 = shuffle(combined_df2)"
      ]
    },
    {
      "cell_type": "code",
      "execution_count": 6,
      "metadata": {
        "id": "K0iD4YZbNfSv"
      },
      "outputs": [],
      "source": [
        "shuffled_df = shuffled_df.dropna()\n",
        "shuffled_df2 = shuffled_df2.dropna()"
      ]
    },
    {
      "cell_type": "code",
      "execution_count": 7,
      "metadata": {
        "id": "OOt1ku32Ns23"
      },
      "outputs": [],
      "source": [
        "training = shuffled_df.iloc[:int(0.9 * len(shuffled_df))]\n",
        "validating = shuffled_df.iloc[int(0.9 * len(shuffled_df)):]"
      ]
    },
    {
      "cell_type": "code",
      "execution_count": 8,
      "metadata": {
        "id": "jSiGixRy-h2c"
      },
      "outputs": [],
      "source": [
        "from bert_dataset import CustomDataset\n",
        "from bert_classifier import BertClassifier"
      ]
    },
    {
      "cell_type": "markdown",
      "metadata": {
        "id": "xJtu_4PKFAxU"
      },
      "source": [
        "Initialize BERT classifier"
      ]
    },
    {
      "cell_type": "code",
      "execution_count": 9,
      "metadata": {
        "colab": {
          "base_uri": "https://localhost:8080/"
        },
        "id": "kFHabt8p_IY7",
        "outputId": "287c04ea-135e-4415-f9ed-0dc3f6f757d9"
      },
      "outputs": [
        {
          "name": "stderr",
          "output_type": "stream",
          "text": [
            "Some weights of BertForSequenceClassification were not initialized from the model checkpoint at cointegrated/rubert-tiny and are newly initialized: ['classifier.weight', 'classifier.bias']\n",
            "You should probably TRAIN this model on a down-stream task to be able to use it for predictions and inference.\n"
          ]
        }
      ],
      "source": [
        "classifier = BertClassifier(\n",
        "        model_path='cointegrated/rubert-tiny',\n",
        "        tokenizer_path='cointegrated/rubert-tiny',\n",
        "        n_classes=2,\n",
        "        epochs=6,\n",
        "        model_save_path='/content/bert.pt'\n",
        ")"
      ]
    },
    {
      "cell_type": "code",
      "execution_count": 10,
      "metadata": {},
      "outputs": [],
      "source": [
        "classifier.load('bert.pt')"
      ]
    },
    {
      "cell_type": "markdown",
      "metadata": {
        "id": "5dc-F_9vFGb1"
      },
      "source": [
        "Prepare data and helpers for train and evlauation"
      ]
    },
    {
      "cell_type": "markdown",
      "metadata": {},
      "source": []
    },
    {
      "cell_type": "code",
      "execution_count": 14,
      "metadata": {
        "colab": {
          "base_uri": "https://localhost:8080/"
        },
        "id": "KoB7lDv_8AWe",
        "outputId": "e7a9cb9b-5cb5-428b-a5d5-5c07a441d4c1"
      },
      "outputs": [],
      "source": [
        "classifier.preparation(\n",
        "        X_train=list(training['0']),\n",
        "        y_train=list(training['target']),\n",
        "        X_valid=list(validating['0']),\n",
        "        y_valid=list(validating['target'])\n",
        "    )"
      ]
    },
    {
      "cell_type": "markdown",
      "metadata": {
        "id": "eUVTfpC5FPsr"
      },
      "source": [
        "Train loop"
      ]
    },
    {
      "cell_type": "code",
      "execution_count": 15,
      "metadata": {
        "colab": {
          "base_uri": "https://localhost:8080/"
        },
        "id": "Pj_RQTCB9dNJ",
        "outputId": "edb50b65-4d52-42f1-db9d-37085d8a7a3a"
      },
      "outputs": [
        {
          "name": "stdout",
          "output_type": "stream",
          "text": [
            "Epoch 1/4\n"
          ]
        },
        {
          "ename": "KeyboardInterrupt",
          "evalue": "",
          "output_type": "error",
          "traceback": [
            "\u001b[0;31m---------------------------------------------------------------------------\u001b[0m",
            "\u001b[0;31mKeyboardInterrupt\u001b[0m                         Traceback (most recent call last)",
            "Input \u001b[0;32mIn [15]\u001b[0m, in \u001b[0;36m<cell line: 1>\u001b[0;34m()\u001b[0m\n\u001b[0;32m----> 1\u001b[0m \u001b[43mclassifier\u001b[49m\u001b[38;5;241;43m.\u001b[39;49m\u001b[43mtrain\u001b[49m\u001b[43m(\u001b[49m\u001b[43m)\u001b[49m\n",
            "File \u001b[0;32m~/Desktop/bullshit/bert_classifier.py:101\u001b[0m, in \u001b[0;36mBertClassifier.train\u001b[0;34m(self)\u001b[0m\n\u001b[1;32m     99\u001b[0m \u001b[38;5;28;01mfor\u001b[39;00m epoch \u001b[38;5;129;01min\u001b[39;00m \u001b[38;5;28mrange\u001b[39m(\u001b[38;5;28mself\u001b[39m\u001b[38;5;241m.\u001b[39mepochs):\n\u001b[1;32m    100\u001b[0m     \u001b[38;5;28mprint\u001b[39m(\u001b[38;5;124mf\u001b[39m\u001b[38;5;124m'\u001b[39m\u001b[38;5;124mEpoch \u001b[39m\u001b[38;5;132;01m{\u001b[39;00mepoch\u001b[38;5;250m \u001b[39m\u001b[38;5;241m+\u001b[39m\u001b[38;5;250m \u001b[39m\u001b[38;5;241m1\u001b[39m\u001b[38;5;132;01m}\u001b[39;00m\u001b[38;5;124m/\u001b[39m\u001b[38;5;132;01m{\u001b[39;00m\u001b[38;5;28mself\u001b[39m\u001b[38;5;241m.\u001b[39mepochs\u001b[38;5;132;01m}\u001b[39;00m\u001b[38;5;124m'\u001b[39m)\n\u001b[0;32m--> 101\u001b[0m     train_acc, train_loss \u001b[38;5;241m=\u001b[39m \u001b[38;5;28;43mself\u001b[39;49m\u001b[38;5;241;43m.\u001b[39;49m\u001b[43mfit\u001b[49m\u001b[43m(\u001b[49m\u001b[43m)\u001b[49m\n\u001b[1;32m    102\u001b[0m     \u001b[38;5;28mprint\u001b[39m(\u001b[38;5;124mf\u001b[39m\u001b[38;5;124m'\u001b[39m\u001b[38;5;124mTrain loss \u001b[39m\u001b[38;5;132;01m{\u001b[39;00mtrain_loss\u001b[38;5;132;01m}\u001b[39;00m\u001b[38;5;124m accuracy \u001b[39m\u001b[38;5;132;01m{\u001b[39;00mtrain_acc\u001b[38;5;132;01m}\u001b[39;00m\u001b[38;5;124m'\u001b[39m)\n\u001b[1;32m    104\u001b[0m     val_acc, val_loss \u001b[38;5;241m=\u001b[39m \u001b[38;5;28mself\u001b[39m\u001b[38;5;241m.\u001b[39meval()\n",
            "File \u001b[0;32m~/Desktop/bullshit/bert_classifier.py:50\u001b[0m, in \u001b[0;36mBertClassifier.fit\u001b[0;34m(self)\u001b[0m\n\u001b[1;32m     47\u001b[0m attention_mask \u001b[38;5;241m=\u001b[39m data[\u001b[38;5;124m\"\u001b[39m\u001b[38;5;124mattention_mask\u001b[39m\u001b[38;5;124m\"\u001b[39m]\u001b[38;5;241m.\u001b[39mto(\u001b[38;5;28mself\u001b[39m\u001b[38;5;241m.\u001b[39mdevice)\n\u001b[1;32m     48\u001b[0m targets \u001b[38;5;241m=\u001b[39m data[\u001b[38;5;124m\"\u001b[39m\u001b[38;5;124mtargets\u001b[39m\u001b[38;5;124m\"\u001b[39m]\u001b[38;5;241m.\u001b[39mto(\u001b[38;5;28mself\u001b[39m\u001b[38;5;241m.\u001b[39mdevice)\n\u001b[0;32m---> 50\u001b[0m outputs \u001b[38;5;241m=\u001b[39m \u001b[38;5;28;43mself\u001b[39;49m\u001b[38;5;241;43m.\u001b[39;49m\u001b[43mmodel\u001b[49m\u001b[43m(\u001b[49m\n\u001b[1;32m     51\u001b[0m \u001b[43m    \u001b[49m\u001b[43minput_ids\u001b[49m\u001b[38;5;241;43m=\u001b[39;49m\u001b[43minput_ids\u001b[49m\u001b[43m,\u001b[49m\n\u001b[1;32m     52\u001b[0m \u001b[43m    \u001b[49m\u001b[43mattention_mask\u001b[49m\u001b[38;5;241;43m=\u001b[39;49m\u001b[43mattention_mask\u001b[49m\n\u001b[1;32m     53\u001b[0m \u001b[43m    \u001b[49m\u001b[43m)\u001b[49m\n\u001b[1;32m     55\u001b[0m preds \u001b[38;5;241m=\u001b[39m torch\u001b[38;5;241m.\u001b[39margmax(outputs\u001b[38;5;241m.\u001b[39mlogits, dim\u001b[38;5;241m=\u001b[39m\u001b[38;5;241m1\u001b[39m)\n\u001b[1;32m     56\u001b[0m loss \u001b[38;5;241m=\u001b[39m \u001b[38;5;28mself\u001b[39m\u001b[38;5;241m.\u001b[39mloss_fn(outputs\u001b[38;5;241m.\u001b[39mlogits, targets)\n",
            "File \u001b[0;32m~/opt/anaconda3/lib/python3.9/site-packages/torch/nn/modules/module.py:1501\u001b[0m, in \u001b[0;36mModule._call_impl\u001b[0;34m(self, *args, **kwargs)\u001b[0m\n\u001b[1;32m   1496\u001b[0m \u001b[38;5;66;03m# If we don't have any hooks, we want to skip the rest of the logic in\u001b[39;00m\n\u001b[1;32m   1497\u001b[0m \u001b[38;5;66;03m# this function, and just call forward.\u001b[39;00m\n\u001b[1;32m   1498\u001b[0m \u001b[38;5;28;01mif\u001b[39;00m \u001b[38;5;129;01mnot\u001b[39;00m (\u001b[38;5;28mself\u001b[39m\u001b[38;5;241m.\u001b[39m_backward_hooks \u001b[38;5;129;01mor\u001b[39;00m \u001b[38;5;28mself\u001b[39m\u001b[38;5;241m.\u001b[39m_backward_pre_hooks \u001b[38;5;129;01mor\u001b[39;00m \u001b[38;5;28mself\u001b[39m\u001b[38;5;241m.\u001b[39m_forward_hooks \u001b[38;5;129;01mor\u001b[39;00m \u001b[38;5;28mself\u001b[39m\u001b[38;5;241m.\u001b[39m_forward_pre_hooks\n\u001b[1;32m   1499\u001b[0m         \u001b[38;5;129;01mor\u001b[39;00m _global_backward_pre_hooks \u001b[38;5;129;01mor\u001b[39;00m _global_backward_hooks\n\u001b[1;32m   1500\u001b[0m         \u001b[38;5;129;01mor\u001b[39;00m _global_forward_hooks \u001b[38;5;129;01mor\u001b[39;00m _global_forward_pre_hooks):\n\u001b[0;32m-> 1501\u001b[0m     \u001b[38;5;28;01mreturn\u001b[39;00m \u001b[43mforward_call\u001b[49m\u001b[43m(\u001b[49m\u001b[38;5;241;43m*\u001b[39;49m\u001b[43margs\u001b[49m\u001b[43m,\u001b[49m\u001b[43m \u001b[49m\u001b[38;5;241;43m*\u001b[39;49m\u001b[38;5;241;43m*\u001b[39;49m\u001b[43mkwargs\u001b[49m\u001b[43m)\u001b[49m\n\u001b[1;32m   1502\u001b[0m \u001b[38;5;66;03m# Do not call functions when jit is used\u001b[39;00m\n\u001b[1;32m   1503\u001b[0m full_backward_hooks, non_full_backward_hooks \u001b[38;5;241m=\u001b[39m [], []\n",
            "File \u001b[0;32m~/opt/anaconda3/lib/python3.9/site-packages/transformers/models/bert/modeling_bert.py:1564\u001b[0m, in \u001b[0;36mBertForSequenceClassification.forward\u001b[0;34m(self, input_ids, attention_mask, token_type_ids, position_ids, head_mask, inputs_embeds, labels, output_attentions, output_hidden_states, return_dict)\u001b[0m\n\u001b[1;32m   1556\u001b[0m \u001b[38;5;250m\u001b[39m\u001b[38;5;124mr\u001b[39m\u001b[38;5;124;03m\"\"\"\u001b[39;00m\n\u001b[1;32m   1557\u001b[0m \u001b[38;5;124;03mlabels (`torch.LongTensor` of shape `(batch_size,)`, *optional*):\u001b[39;00m\n\u001b[1;32m   1558\u001b[0m \u001b[38;5;124;03m    Labels for computing the sequence classification/regression loss. Indices should be in `[0, ...,\u001b[39;00m\n\u001b[1;32m   1559\u001b[0m \u001b[38;5;124;03m    config.num_labels - 1]`. If `config.num_labels == 1` a regression loss is computed (Mean-Square loss), If\u001b[39;00m\n\u001b[1;32m   1560\u001b[0m \u001b[38;5;124;03m    `config.num_labels > 1` a classification loss is computed (Cross-Entropy).\u001b[39;00m\n\u001b[1;32m   1561\u001b[0m \u001b[38;5;124;03m\"\"\"\u001b[39;00m\n\u001b[1;32m   1562\u001b[0m return_dict \u001b[38;5;241m=\u001b[39m return_dict \u001b[38;5;28;01mif\u001b[39;00m return_dict \u001b[38;5;129;01mis\u001b[39;00m \u001b[38;5;129;01mnot\u001b[39;00m \u001b[38;5;28;01mNone\u001b[39;00m \u001b[38;5;28;01melse\u001b[39;00m \u001b[38;5;28mself\u001b[39m\u001b[38;5;241m.\u001b[39mconfig\u001b[38;5;241m.\u001b[39muse_return_dict\n\u001b[0;32m-> 1564\u001b[0m outputs \u001b[38;5;241m=\u001b[39m \u001b[38;5;28;43mself\u001b[39;49m\u001b[38;5;241;43m.\u001b[39;49m\u001b[43mbert\u001b[49m\u001b[43m(\u001b[49m\n\u001b[1;32m   1565\u001b[0m \u001b[43m    \u001b[49m\u001b[43minput_ids\u001b[49m\u001b[43m,\u001b[49m\n\u001b[1;32m   1566\u001b[0m \u001b[43m    \u001b[49m\u001b[43mattention_mask\u001b[49m\u001b[38;5;241;43m=\u001b[39;49m\u001b[43mattention_mask\u001b[49m\u001b[43m,\u001b[49m\n\u001b[1;32m   1567\u001b[0m \u001b[43m    \u001b[49m\u001b[43mtoken_type_ids\u001b[49m\u001b[38;5;241;43m=\u001b[39;49m\u001b[43mtoken_type_ids\u001b[49m\u001b[43m,\u001b[49m\n\u001b[1;32m   1568\u001b[0m \u001b[43m    \u001b[49m\u001b[43mposition_ids\u001b[49m\u001b[38;5;241;43m=\u001b[39;49m\u001b[43mposition_ids\u001b[49m\u001b[43m,\u001b[49m\n\u001b[1;32m   1569\u001b[0m \u001b[43m    \u001b[49m\u001b[43mhead_mask\u001b[49m\u001b[38;5;241;43m=\u001b[39;49m\u001b[43mhead_mask\u001b[49m\u001b[43m,\u001b[49m\n\u001b[1;32m   1570\u001b[0m \u001b[43m    \u001b[49m\u001b[43minputs_embeds\u001b[49m\u001b[38;5;241;43m=\u001b[39;49m\u001b[43minputs_embeds\u001b[49m\u001b[43m,\u001b[49m\n\u001b[1;32m   1571\u001b[0m \u001b[43m    \u001b[49m\u001b[43moutput_attentions\u001b[49m\u001b[38;5;241;43m=\u001b[39;49m\u001b[43moutput_attentions\u001b[49m\u001b[43m,\u001b[49m\n\u001b[1;32m   1572\u001b[0m \u001b[43m    \u001b[49m\u001b[43moutput_hidden_states\u001b[49m\u001b[38;5;241;43m=\u001b[39;49m\u001b[43moutput_hidden_states\u001b[49m\u001b[43m,\u001b[49m\n\u001b[1;32m   1573\u001b[0m \u001b[43m    \u001b[49m\u001b[43mreturn_dict\u001b[49m\u001b[38;5;241;43m=\u001b[39;49m\u001b[43mreturn_dict\u001b[49m\u001b[43m,\u001b[49m\n\u001b[1;32m   1574\u001b[0m \u001b[43m\u001b[49m\u001b[43m)\u001b[49m\n\u001b[1;32m   1576\u001b[0m pooled_output \u001b[38;5;241m=\u001b[39m outputs[\u001b[38;5;241m1\u001b[39m]\n\u001b[1;32m   1578\u001b[0m pooled_output \u001b[38;5;241m=\u001b[39m \u001b[38;5;28mself\u001b[39m\u001b[38;5;241m.\u001b[39mdropout(pooled_output)\n",
            "File \u001b[0;32m~/opt/anaconda3/lib/python3.9/site-packages/torch/nn/modules/module.py:1501\u001b[0m, in \u001b[0;36mModule._call_impl\u001b[0;34m(self, *args, **kwargs)\u001b[0m\n\u001b[1;32m   1496\u001b[0m \u001b[38;5;66;03m# If we don't have any hooks, we want to skip the rest of the logic in\u001b[39;00m\n\u001b[1;32m   1497\u001b[0m \u001b[38;5;66;03m# this function, and just call forward.\u001b[39;00m\n\u001b[1;32m   1498\u001b[0m \u001b[38;5;28;01mif\u001b[39;00m \u001b[38;5;129;01mnot\u001b[39;00m (\u001b[38;5;28mself\u001b[39m\u001b[38;5;241m.\u001b[39m_backward_hooks \u001b[38;5;129;01mor\u001b[39;00m \u001b[38;5;28mself\u001b[39m\u001b[38;5;241m.\u001b[39m_backward_pre_hooks \u001b[38;5;129;01mor\u001b[39;00m \u001b[38;5;28mself\u001b[39m\u001b[38;5;241m.\u001b[39m_forward_hooks \u001b[38;5;129;01mor\u001b[39;00m \u001b[38;5;28mself\u001b[39m\u001b[38;5;241m.\u001b[39m_forward_pre_hooks\n\u001b[1;32m   1499\u001b[0m         \u001b[38;5;129;01mor\u001b[39;00m _global_backward_pre_hooks \u001b[38;5;129;01mor\u001b[39;00m _global_backward_hooks\n\u001b[1;32m   1500\u001b[0m         \u001b[38;5;129;01mor\u001b[39;00m _global_forward_hooks \u001b[38;5;129;01mor\u001b[39;00m _global_forward_pre_hooks):\n\u001b[0;32m-> 1501\u001b[0m     \u001b[38;5;28;01mreturn\u001b[39;00m \u001b[43mforward_call\u001b[49m\u001b[43m(\u001b[49m\u001b[38;5;241;43m*\u001b[39;49m\u001b[43margs\u001b[49m\u001b[43m,\u001b[49m\u001b[43m \u001b[49m\u001b[38;5;241;43m*\u001b[39;49m\u001b[38;5;241;43m*\u001b[39;49m\u001b[43mkwargs\u001b[49m\u001b[43m)\u001b[49m\n\u001b[1;32m   1502\u001b[0m \u001b[38;5;66;03m# Do not call functions when jit is used\u001b[39;00m\n\u001b[1;32m   1503\u001b[0m full_backward_hooks, non_full_backward_hooks \u001b[38;5;241m=\u001b[39m [], []\n",
            "File \u001b[0;32m~/opt/anaconda3/lib/python3.9/site-packages/transformers/models/bert/modeling_bert.py:1013\u001b[0m, in \u001b[0;36mBertModel.forward\u001b[0;34m(self, input_ids, attention_mask, token_type_ids, position_ids, head_mask, inputs_embeds, encoder_hidden_states, encoder_attention_mask, past_key_values, use_cache, output_attentions, output_hidden_states, return_dict)\u001b[0m\n\u001b[1;32m   1004\u001b[0m head_mask \u001b[38;5;241m=\u001b[39m \u001b[38;5;28mself\u001b[39m\u001b[38;5;241m.\u001b[39mget_head_mask(head_mask, \u001b[38;5;28mself\u001b[39m\u001b[38;5;241m.\u001b[39mconfig\u001b[38;5;241m.\u001b[39mnum_hidden_layers)\n\u001b[1;32m   1006\u001b[0m embedding_output \u001b[38;5;241m=\u001b[39m \u001b[38;5;28mself\u001b[39m\u001b[38;5;241m.\u001b[39membeddings(\n\u001b[1;32m   1007\u001b[0m     input_ids\u001b[38;5;241m=\u001b[39minput_ids,\n\u001b[1;32m   1008\u001b[0m     position_ids\u001b[38;5;241m=\u001b[39mposition_ids,\n\u001b[0;32m   (...)\u001b[0m\n\u001b[1;32m   1011\u001b[0m     past_key_values_length\u001b[38;5;241m=\u001b[39mpast_key_values_length,\n\u001b[1;32m   1012\u001b[0m )\n\u001b[0;32m-> 1013\u001b[0m encoder_outputs \u001b[38;5;241m=\u001b[39m \u001b[38;5;28;43mself\u001b[39;49m\u001b[38;5;241;43m.\u001b[39;49m\u001b[43mencoder\u001b[49m\u001b[43m(\u001b[49m\n\u001b[1;32m   1014\u001b[0m \u001b[43m    \u001b[49m\u001b[43membedding_output\u001b[49m\u001b[43m,\u001b[49m\n\u001b[1;32m   1015\u001b[0m \u001b[43m    \u001b[49m\u001b[43mattention_mask\u001b[49m\u001b[38;5;241;43m=\u001b[39;49m\u001b[43mextended_attention_mask\u001b[49m\u001b[43m,\u001b[49m\n\u001b[1;32m   1016\u001b[0m \u001b[43m    \u001b[49m\u001b[43mhead_mask\u001b[49m\u001b[38;5;241;43m=\u001b[39;49m\u001b[43mhead_mask\u001b[49m\u001b[43m,\u001b[49m\n\u001b[1;32m   1017\u001b[0m \u001b[43m    \u001b[49m\u001b[43mencoder_hidden_states\u001b[49m\u001b[38;5;241;43m=\u001b[39;49m\u001b[43mencoder_hidden_states\u001b[49m\u001b[43m,\u001b[49m\n\u001b[1;32m   1018\u001b[0m \u001b[43m    \u001b[49m\u001b[43mencoder_attention_mask\u001b[49m\u001b[38;5;241;43m=\u001b[39;49m\u001b[43mencoder_extended_attention_mask\u001b[49m\u001b[43m,\u001b[49m\n\u001b[1;32m   1019\u001b[0m \u001b[43m    \u001b[49m\u001b[43mpast_key_values\u001b[49m\u001b[38;5;241;43m=\u001b[39;49m\u001b[43mpast_key_values\u001b[49m\u001b[43m,\u001b[49m\n\u001b[1;32m   1020\u001b[0m \u001b[43m    \u001b[49m\u001b[43muse_cache\u001b[49m\u001b[38;5;241;43m=\u001b[39;49m\u001b[43muse_cache\u001b[49m\u001b[43m,\u001b[49m\n\u001b[1;32m   1021\u001b[0m \u001b[43m    \u001b[49m\u001b[43moutput_attentions\u001b[49m\u001b[38;5;241;43m=\u001b[39;49m\u001b[43moutput_attentions\u001b[49m\u001b[43m,\u001b[49m\n\u001b[1;32m   1022\u001b[0m \u001b[43m    \u001b[49m\u001b[43moutput_hidden_states\u001b[49m\u001b[38;5;241;43m=\u001b[39;49m\u001b[43moutput_hidden_states\u001b[49m\u001b[43m,\u001b[49m\n\u001b[1;32m   1023\u001b[0m \u001b[43m    \u001b[49m\u001b[43mreturn_dict\u001b[49m\u001b[38;5;241;43m=\u001b[39;49m\u001b[43mreturn_dict\u001b[49m\u001b[43m,\u001b[49m\n\u001b[1;32m   1024\u001b[0m \u001b[43m\u001b[49m\u001b[43m)\u001b[49m\n\u001b[1;32m   1025\u001b[0m sequence_output \u001b[38;5;241m=\u001b[39m encoder_outputs[\u001b[38;5;241m0\u001b[39m]\n\u001b[1;32m   1026\u001b[0m pooled_output \u001b[38;5;241m=\u001b[39m \u001b[38;5;28mself\u001b[39m\u001b[38;5;241m.\u001b[39mpooler(sequence_output) \u001b[38;5;28;01mif\u001b[39;00m \u001b[38;5;28mself\u001b[39m\u001b[38;5;241m.\u001b[39mpooler \u001b[38;5;129;01mis\u001b[39;00m \u001b[38;5;129;01mnot\u001b[39;00m \u001b[38;5;28;01mNone\u001b[39;00m \u001b[38;5;28;01melse\u001b[39;00m \u001b[38;5;28;01mNone\u001b[39;00m\n",
            "File \u001b[0;32m~/opt/anaconda3/lib/python3.9/site-packages/torch/nn/modules/module.py:1501\u001b[0m, in \u001b[0;36mModule._call_impl\u001b[0;34m(self, *args, **kwargs)\u001b[0m\n\u001b[1;32m   1496\u001b[0m \u001b[38;5;66;03m# If we don't have any hooks, we want to skip the rest of the logic in\u001b[39;00m\n\u001b[1;32m   1497\u001b[0m \u001b[38;5;66;03m# this function, and just call forward.\u001b[39;00m\n\u001b[1;32m   1498\u001b[0m \u001b[38;5;28;01mif\u001b[39;00m \u001b[38;5;129;01mnot\u001b[39;00m (\u001b[38;5;28mself\u001b[39m\u001b[38;5;241m.\u001b[39m_backward_hooks \u001b[38;5;129;01mor\u001b[39;00m \u001b[38;5;28mself\u001b[39m\u001b[38;5;241m.\u001b[39m_backward_pre_hooks \u001b[38;5;129;01mor\u001b[39;00m \u001b[38;5;28mself\u001b[39m\u001b[38;5;241m.\u001b[39m_forward_hooks \u001b[38;5;129;01mor\u001b[39;00m \u001b[38;5;28mself\u001b[39m\u001b[38;5;241m.\u001b[39m_forward_pre_hooks\n\u001b[1;32m   1499\u001b[0m         \u001b[38;5;129;01mor\u001b[39;00m _global_backward_pre_hooks \u001b[38;5;129;01mor\u001b[39;00m _global_backward_hooks\n\u001b[1;32m   1500\u001b[0m         \u001b[38;5;129;01mor\u001b[39;00m _global_forward_hooks \u001b[38;5;129;01mor\u001b[39;00m _global_forward_pre_hooks):\n\u001b[0;32m-> 1501\u001b[0m     \u001b[38;5;28;01mreturn\u001b[39;00m \u001b[43mforward_call\u001b[49m\u001b[43m(\u001b[49m\u001b[38;5;241;43m*\u001b[39;49m\u001b[43margs\u001b[49m\u001b[43m,\u001b[49m\u001b[43m \u001b[49m\u001b[38;5;241;43m*\u001b[39;49m\u001b[38;5;241;43m*\u001b[39;49m\u001b[43mkwargs\u001b[49m\u001b[43m)\u001b[49m\n\u001b[1;32m   1502\u001b[0m \u001b[38;5;66;03m# Do not call functions when jit is used\u001b[39;00m\n\u001b[1;32m   1503\u001b[0m full_backward_hooks, non_full_backward_hooks \u001b[38;5;241m=\u001b[39m [], []\n",
            "File \u001b[0;32m~/opt/anaconda3/lib/python3.9/site-packages/transformers/models/bert/modeling_bert.py:607\u001b[0m, in \u001b[0;36mBertEncoder.forward\u001b[0;34m(self, hidden_states, attention_mask, head_mask, encoder_hidden_states, encoder_attention_mask, past_key_values, use_cache, output_attentions, output_hidden_states, return_dict)\u001b[0m\n\u001b[1;32m    596\u001b[0m     layer_outputs \u001b[38;5;241m=\u001b[39m \u001b[38;5;28mself\u001b[39m\u001b[38;5;241m.\u001b[39m_gradient_checkpointing_func(\n\u001b[1;32m    597\u001b[0m         layer_module\u001b[38;5;241m.\u001b[39m\u001b[38;5;21m__call__\u001b[39m,\n\u001b[1;32m    598\u001b[0m         hidden_states,\n\u001b[0;32m   (...)\u001b[0m\n\u001b[1;32m    604\u001b[0m         output_attentions,\n\u001b[1;32m    605\u001b[0m     )\n\u001b[1;32m    606\u001b[0m \u001b[38;5;28;01melse\u001b[39;00m:\n\u001b[0;32m--> 607\u001b[0m     layer_outputs \u001b[38;5;241m=\u001b[39m \u001b[43mlayer_module\u001b[49m\u001b[43m(\u001b[49m\n\u001b[1;32m    608\u001b[0m \u001b[43m        \u001b[49m\u001b[43mhidden_states\u001b[49m\u001b[43m,\u001b[49m\n\u001b[1;32m    609\u001b[0m \u001b[43m        \u001b[49m\u001b[43mattention_mask\u001b[49m\u001b[43m,\u001b[49m\n\u001b[1;32m    610\u001b[0m \u001b[43m        \u001b[49m\u001b[43mlayer_head_mask\u001b[49m\u001b[43m,\u001b[49m\n\u001b[1;32m    611\u001b[0m \u001b[43m        \u001b[49m\u001b[43mencoder_hidden_states\u001b[49m\u001b[43m,\u001b[49m\n\u001b[1;32m    612\u001b[0m \u001b[43m        \u001b[49m\u001b[43mencoder_attention_mask\u001b[49m\u001b[43m,\u001b[49m\n\u001b[1;32m    613\u001b[0m \u001b[43m        \u001b[49m\u001b[43mpast_key_value\u001b[49m\u001b[43m,\u001b[49m\n\u001b[1;32m    614\u001b[0m \u001b[43m        \u001b[49m\u001b[43moutput_attentions\u001b[49m\u001b[43m,\u001b[49m\n\u001b[1;32m    615\u001b[0m \u001b[43m    \u001b[49m\u001b[43m)\u001b[49m\n\u001b[1;32m    617\u001b[0m hidden_states \u001b[38;5;241m=\u001b[39m layer_outputs[\u001b[38;5;241m0\u001b[39m]\n\u001b[1;32m    618\u001b[0m \u001b[38;5;28;01mif\u001b[39;00m use_cache:\n",
            "File \u001b[0;32m~/opt/anaconda3/lib/python3.9/site-packages/torch/nn/modules/module.py:1501\u001b[0m, in \u001b[0;36mModule._call_impl\u001b[0;34m(self, *args, **kwargs)\u001b[0m\n\u001b[1;32m   1496\u001b[0m \u001b[38;5;66;03m# If we don't have any hooks, we want to skip the rest of the logic in\u001b[39;00m\n\u001b[1;32m   1497\u001b[0m \u001b[38;5;66;03m# this function, and just call forward.\u001b[39;00m\n\u001b[1;32m   1498\u001b[0m \u001b[38;5;28;01mif\u001b[39;00m \u001b[38;5;129;01mnot\u001b[39;00m (\u001b[38;5;28mself\u001b[39m\u001b[38;5;241m.\u001b[39m_backward_hooks \u001b[38;5;129;01mor\u001b[39;00m \u001b[38;5;28mself\u001b[39m\u001b[38;5;241m.\u001b[39m_backward_pre_hooks \u001b[38;5;129;01mor\u001b[39;00m \u001b[38;5;28mself\u001b[39m\u001b[38;5;241m.\u001b[39m_forward_hooks \u001b[38;5;129;01mor\u001b[39;00m \u001b[38;5;28mself\u001b[39m\u001b[38;5;241m.\u001b[39m_forward_pre_hooks\n\u001b[1;32m   1499\u001b[0m         \u001b[38;5;129;01mor\u001b[39;00m _global_backward_pre_hooks \u001b[38;5;129;01mor\u001b[39;00m _global_backward_hooks\n\u001b[1;32m   1500\u001b[0m         \u001b[38;5;129;01mor\u001b[39;00m _global_forward_hooks \u001b[38;5;129;01mor\u001b[39;00m _global_forward_pre_hooks):\n\u001b[0;32m-> 1501\u001b[0m     \u001b[38;5;28;01mreturn\u001b[39;00m \u001b[43mforward_call\u001b[49m\u001b[43m(\u001b[49m\u001b[38;5;241;43m*\u001b[39;49m\u001b[43margs\u001b[49m\u001b[43m,\u001b[49m\u001b[43m \u001b[49m\u001b[38;5;241;43m*\u001b[39;49m\u001b[38;5;241;43m*\u001b[39;49m\u001b[43mkwargs\u001b[49m\u001b[43m)\u001b[49m\n\u001b[1;32m   1502\u001b[0m \u001b[38;5;66;03m# Do not call functions when jit is used\u001b[39;00m\n\u001b[1;32m   1503\u001b[0m full_backward_hooks, non_full_backward_hooks \u001b[38;5;241m=\u001b[39m [], []\n",
            "File \u001b[0;32m~/opt/anaconda3/lib/python3.9/site-packages/transformers/models/bert/modeling_bert.py:497\u001b[0m, in \u001b[0;36mBertLayer.forward\u001b[0;34m(self, hidden_states, attention_mask, head_mask, encoder_hidden_states, encoder_attention_mask, past_key_value, output_attentions)\u001b[0m\n\u001b[1;32m    485\u001b[0m \u001b[38;5;28;01mdef\u001b[39;00m \u001b[38;5;21mforward\u001b[39m(\n\u001b[1;32m    486\u001b[0m     \u001b[38;5;28mself\u001b[39m,\n\u001b[1;32m    487\u001b[0m     hidden_states: torch\u001b[38;5;241m.\u001b[39mTensor,\n\u001b[0;32m   (...)\u001b[0m\n\u001b[1;32m    494\u001b[0m ) \u001b[38;5;241m-\u001b[39m\u001b[38;5;241m>\u001b[39m Tuple[torch\u001b[38;5;241m.\u001b[39mTensor]:\n\u001b[1;32m    495\u001b[0m     \u001b[38;5;66;03m# decoder uni-directional self-attention cached key/values tuple is at positions 1,2\u001b[39;00m\n\u001b[1;32m    496\u001b[0m     self_attn_past_key_value \u001b[38;5;241m=\u001b[39m past_key_value[:\u001b[38;5;241m2\u001b[39m] \u001b[38;5;28;01mif\u001b[39;00m past_key_value \u001b[38;5;129;01mis\u001b[39;00m \u001b[38;5;129;01mnot\u001b[39;00m \u001b[38;5;28;01mNone\u001b[39;00m \u001b[38;5;28;01melse\u001b[39;00m \u001b[38;5;28;01mNone\u001b[39;00m\n\u001b[0;32m--> 497\u001b[0m     self_attention_outputs \u001b[38;5;241m=\u001b[39m \u001b[38;5;28;43mself\u001b[39;49m\u001b[38;5;241;43m.\u001b[39;49m\u001b[43mattention\u001b[49m\u001b[43m(\u001b[49m\n\u001b[1;32m    498\u001b[0m \u001b[43m        \u001b[49m\u001b[43mhidden_states\u001b[49m\u001b[43m,\u001b[49m\n\u001b[1;32m    499\u001b[0m \u001b[43m        \u001b[49m\u001b[43mattention_mask\u001b[49m\u001b[43m,\u001b[49m\n\u001b[1;32m    500\u001b[0m \u001b[43m        \u001b[49m\u001b[43mhead_mask\u001b[49m\u001b[43m,\u001b[49m\n\u001b[1;32m    501\u001b[0m \u001b[43m        \u001b[49m\u001b[43moutput_attentions\u001b[49m\u001b[38;5;241;43m=\u001b[39;49m\u001b[43moutput_attentions\u001b[49m\u001b[43m,\u001b[49m\n\u001b[1;32m    502\u001b[0m \u001b[43m        \u001b[49m\u001b[43mpast_key_value\u001b[49m\u001b[38;5;241;43m=\u001b[39;49m\u001b[43mself_attn_past_key_value\u001b[49m\u001b[43m,\u001b[49m\n\u001b[1;32m    503\u001b[0m \u001b[43m    \u001b[49m\u001b[43m)\u001b[49m\n\u001b[1;32m    504\u001b[0m     attention_output \u001b[38;5;241m=\u001b[39m self_attention_outputs[\u001b[38;5;241m0\u001b[39m]\n\u001b[1;32m    506\u001b[0m     \u001b[38;5;66;03m# if decoder, the last output is tuple of self-attn cache\u001b[39;00m\n",
            "File \u001b[0;32m~/opt/anaconda3/lib/python3.9/site-packages/torch/nn/modules/module.py:1501\u001b[0m, in \u001b[0;36mModule._call_impl\u001b[0;34m(self, *args, **kwargs)\u001b[0m\n\u001b[1;32m   1496\u001b[0m \u001b[38;5;66;03m# If we don't have any hooks, we want to skip the rest of the logic in\u001b[39;00m\n\u001b[1;32m   1497\u001b[0m \u001b[38;5;66;03m# this function, and just call forward.\u001b[39;00m\n\u001b[1;32m   1498\u001b[0m \u001b[38;5;28;01mif\u001b[39;00m \u001b[38;5;129;01mnot\u001b[39;00m (\u001b[38;5;28mself\u001b[39m\u001b[38;5;241m.\u001b[39m_backward_hooks \u001b[38;5;129;01mor\u001b[39;00m \u001b[38;5;28mself\u001b[39m\u001b[38;5;241m.\u001b[39m_backward_pre_hooks \u001b[38;5;129;01mor\u001b[39;00m \u001b[38;5;28mself\u001b[39m\u001b[38;5;241m.\u001b[39m_forward_hooks \u001b[38;5;129;01mor\u001b[39;00m \u001b[38;5;28mself\u001b[39m\u001b[38;5;241m.\u001b[39m_forward_pre_hooks\n\u001b[1;32m   1499\u001b[0m         \u001b[38;5;129;01mor\u001b[39;00m _global_backward_pre_hooks \u001b[38;5;129;01mor\u001b[39;00m _global_backward_hooks\n\u001b[1;32m   1500\u001b[0m         \u001b[38;5;129;01mor\u001b[39;00m _global_forward_hooks \u001b[38;5;129;01mor\u001b[39;00m _global_forward_pre_hooks):\n\u001b[0;32m-> 1501\u001b[0m     \u001b[38;5;28;01mreturn\u001b[39;00m \u001b[43mforward_call\u001b[49m\u001b[43m(\u001b[49m\u001b[38;5;241;43m*\u001b[39;49m\u001b[43margs\u001b[49m\u001b[43m,\u001b[49m\u001b[43m \u001b[49m\u001b[38;5;241;43m*\u001b[39;49m\u001b[38;5;241;43m*\u001b[39;49m\u001b[43mkwargs\u001b[49m\u001b[43m)\u001b[49m\n\u001b[1;32m   1502\u001b[0m \u001b[38;5;66;03m# Do not call functions when jit is used\u001b[39;00m\n\u001b[1;32m   1503\u001b[0m full_backward_hooks, non_full_backward_hooks \u001b[38;5;241m=\u001b[39m [], []\n",
            "File \u001b[0;32m~/opt/anaconda3/lib/python3.9/site-packages/transformers/models/bert/modeling_bert.py:436\u001b[0m, in \u001b[0;36mBertAttention.forward\u001b[0;34m(self, hidden_states, attention_mask, head_mask, encoder_hidden_states, encoder_attention_mask, past_key_value, output_attentions)\u001b[0m\n\u001b[1;32m    417\u001b[0m \u001b[38;5;28;01mdef\u001b[39;00m \u001b[38;5;21mforward\u001b[39m(\n\u001b[1;32m    418\u001b[0m     \u001b[38;5;28mself\u001b[39m,\n\u001b[1;32m    419\u001b[0m     hidden_states: torch\u001b[38;5;241m.\u001b[39mTensor,\n\u001b[0;32m   (...)\u001b[0m\n\u001b[1;32m    425\u001b[0m     output_attentions: Optional[\u001b[38;5;28mbool\u001b[39m] \u001b[38;5;241m=\u001b[39m \u001b[38;5;28;01mFalse\u001b[39;00m,\n\u001b[1;32m    426\u001b[0m ) \u001b[38;5;241m-\u001b[39m\u001b[38;5;241m>\u001b[39m Tuple[torch\u001b[38;5;241m.\u001b[39mTensor]:\n\u001b[1;32m    427\u001b[0m     self_outputs \u001b[38;5;241m=\u001b[39m \u001b[38;5;28mself\u001b[39m\u001b[38;5;241m.\u001b[39mself(\n\u001b[1;32m    428\u001b[0m         hidden_states,\n\u001b[1;32m    429\u001b[0m         attention_mask,\n\u001b[0;32m   (...)\u001b[0m\n\u001b[1;32m    434\u001b[0m         output_attentions,\n\u001b[1;32m    435\u001b[0m     )\n\u001b[0;32m--> 436\u001b[0m     attention_output \u001b[38;5;241m=\u001b[39m \u001b[38;5;28;43mself\u001b[39;49m\u001b[38;5;241;43m.\u001b[39;49m\u001b[43moutput\u001b[49m\u001b[43m(\u001b[49m\u001b[43mself_outputs\u001b[49m\u001b[43m[\u001b[49m\u001b[38;5;241;43m0\u001b[39;49m\u001b[43m]\u001b[49m\u001b[43m,\u001b[49m\u001b[43m \u001b[49m\u001b[43mhidden_states\u001b[49m\u001b[43m)\u001b[49m\n\u001b[1;32m    437\u001b[0m     outputs \u001b[38;5;241m=\u001b[39m (attention_output,) \u001b[38;5;241m+\u001b[39m self_outputs[\u001b[38;5;241m1\u001b[39m:]  \u001b[38;5;66;03m# add attentions if we output them\u001b[39;00m\n\u001b[1;32m    438\u001b[0m     \u001b[38;5;28;01mreturn\u001b[39;00m outputs\n",
            "File \u001b[0;32m~/opt/anaconda3/lib/python3.9/site-packages/torch/nn/modules/module.py:1501\u001b[0m, in \u001b[0;36mModule._call_impl\u001b[0;34m(self, *args, **kwargs)\u001b[0m\n\u001b[1;32m   1496\u001b[0m \u001b[38;5;66;03m# If we don't have any hooks, we want to skip the rest of the logic in\u001b[39;00m\n\u001b[1;32m   1497\u001b[0m \u001b[38;5;66;03m# this function, and just call forward.\u001b[39;00m\n\u001b[1;32m   1498\u001b[0m \u001b[38;5;28;01mif\u001b[39;00m \u001b[38;5;129;01mnot\u001b[39;00m (\u001b[38;5;28mself\u001b[39m\u001b[38;5;241m.\u001b[39m_backward_hooks \u001b[38;5;129;01mor\u001b[39;00m \u001b[38;5;28mself\u001b[39m\u001b[38;5;241m.\u001b[39m_backward_pre_hooks \u001b[38;5;129;01mor\u001b[39;00m \u001b[38;5;28mself\u001b[39m\u001b[38;5;241m.\u001b[39m_forward_hooks \u001b[38;5;129;01mor\u001b[39;00m \u001b[38;5;28mself\u001b[39m\u001b[38;5;241m.\u001b[39m_forward_pre_hooks\n\u001b[1;32m   1499\u001b[0m         \u001b[38;5;129;01mor\u001b[39;00m _global_backward_pre_hooks \u001b[38;5;129;01mor\u001b[39;00m _global_backward_hooks\n\u001b[1;32m   1500\u001b[0m         \u001b[38;5;129;01mor\u001b[39;00m _global_forward_hooks \u001b[38;5;129;01mor\u001b[39;00m _global_forward_pre_hooks):\n\u001b[0;32m-> 1501\u001b[0m     \u001b[38;5;28;01mreturn\u001b[39;00m \u001b[43mforward_call\u001b[49m\u001b[43m(\u001b[49m\u001b[38;5;241;43m*\u001b[39;49m\u001b[43margs\u001b[49m\u001b[43m,\u001b[49m\u001b[43m \u001b[49m\u001b[38;5;241;43m*\u001b[39;49m\u001b[38;5;241;43m*\u001b[39;49m\u001b[43mkwargs\u001b[49m\u001b[43m)\u001b[49m\n\u001b[1;32m   1502\u001b[0m \u001b[38;5;66;03m# Do not call functions when jit is used\u001b[39;00m\n\u001b[1;32m   1503\u001b[0m full_backward_hooks, non_full_backward_hooks \u001b[38;5;241m=\u001b[39m [], []\n",
            "File \u001b[0;32m~/opt/anaconda3/lib/python3.9/site-packages/transformers/models/bert/modeling_bert.py:387\u001b[0m, in \u001b[0;36mBertSelfOutput.forward\u001b[0;34m(self, hidden_states, input_tensor)\u001b[0m\n\u001b[1;32m    385\u001b[0m \u001b[38;5;28;01mdef\u001b[39;00m \u001b[38;5;21mforward\u001b[39m(\u001b[38;5;28mself\u001b[39m, hidden_states: torch\u001b[38;5;241m.\u001b[39mTensor, input_tensor: torch\u001b[38;5;241m.\u001b[39mTensor) \u001b[38;5;241m-\u001b[39m\u001b[38;5;241m>\u001b[39m torch\u001b[38;5;241m.\u001b[39mTensor:\n\u001b[1;32m    386\u001b[0m     hidden_states \u001b[38;5;241m=\u001b[39m \u001b[38;5;28mself\u001b[39m\u001b[38;5;241m.\u001b[39mdense(hidden_states)\n\u001b[0;32m--> 387\u001b[0m     hidden_states \u001b[38;5;241m=\u001b[39m \u001b[38;5;28;43mself\u001b[39;49m\u001b[38;5;241;43m.\u001b[39;49m\u001b[43mdropout\u001b[49m\u001b[43m(\u001b[49m\u001b[43mhidden_states\u001b[49m\u001b[43m)\u001b[49m\n\u001b[1;32m    388\u001b[0m     hidden_states \u001b[38;5;241m=\u001b[39m \u001b[38;5;28mself\u001b[39m\u001b[38;5;241m.\u001b[39mLayerNorm(hidden_states \u001b[38;5;241m+\u001b[39m input_tensor)\n\u001b[1;32m    389\u001b[0m     \u001b[38;5;28;01mreturn\u001b[39;00m hidden_states\n",
            "File \u001b[0;32m~/opt/anaconda3/lib/python3.9/site-packages/torch/nn/modules/module.py:1501\u001b[0m, in \u001b[0;36mModule._call_impl\u001b[0;34m(self, *args, **kwargs)\u001b[0m\n\u001b[1;32m   1496\u001b[0m \u001b[38;5;66;03m# If we don't have any hooks, we want to skip the rest of the logic in\u001b[39;00m\n\u001b[1;32m   1497\u001b[0m \u001b[38;5;66;03m# this function, and just call forward.\u001b[39;00m\n\u001b[1;32m   1498\u001b[0m \u001b[38;5;28;01mif\u001b[39;00m \u001b[38;5;129;01mnot\u001b[39;00m (\u001b[38;5;28mself\u001b[39m\u001b[38;5;241m.\u001b[39m_backward_hooks \u001b[38;5;129;01mor\u001b[39;00m \u001b[38;5;28mself\u001b[39m\u001b[38;5;241m.\u001b[39m_backward_pre_hooks \u001b[38;5;129;01mor\u001b[39;00m \u001b[38;5;28mself\u001b[39m\u001b[38;5;241m.\u001b[39m_forward_hooks \u001b[38;5;129;01mor\u001b[39;00m \u001b[38;5;28mself\u001b[39m\u001b[38;5;241m.\u001b[39m_forward_pre_hooks\n\u001b[1;32m   1499\u001b[0m         \u001b[38;5;129;01mor\u001b[39;00m _global_backward_pre_hooks \u001b[38;5;129;01mor\u001b[39;00m _global_backward_hooks\n\u001b[1;32m   1500\u001b[0m         \u001b[38;5;129;01mor\u001b[39;00m _global_forward_hooks \u001b[38;5;129;01mor\u001b[39;00m _global_forward_pre_hooks):\n\u001b[0;32m-> 1501\u001b[0m     \u001b[38;5;28;01mreturn\u001b[39;00m \u001b[43mforward_call\u001b[49m\u001b[43m(\u001b[49m\u001b[38;5;241;43m*\u001b[39;49m\u001b[43margs\u001b[49m\u001b[43m,\u001b[49m\u001b[43m \u001b[49m\u001b[38;5;241;43m*\u001b[39;49m\u001b[38;5;241;43m*\u001b[39;49m\u001b[43mkwargs\u001b[49m\u001b[43m)\u001b[49m\n\u001b[1;32m   1502\u001b[0m \u001b[38;5;66;03m# Do not call functions when jit is used\u001b[39;00m\n\u001b[1;32m   1503\u001b[0m full_backward_hooks, non_full_backward_hooks \u001b[38;5;241m=\u001b[39m [], []\n",
            "File \u001b[0;32m~/opt/anaconda3/lib/python3.9/site-packages/torch/nn/modules/dropout.py:59\u001b[0m, in \u001b[0;36mDropout.forward\u001b[0;34m(self, input)\u001b[0m\n\u001b[1;32m     58\u001b[0m \u001b[38;5;28;01mdef\u001b[39;00m \u001b[38;5;21mforward\u001b[39m(\u001b[38;5;28mself\u001b[39m, \u001b[38;5;28minput\u001b[39m: Tensor) \u001b[38;5;241m-\u001b[39m\u001b[38;5;241m>\u001b[39m Tensor:\n\u001b[0;32m---> 59\u001b[0m     \u001b[38;5;28;01mreturn\u001b[39;00m \u001b[43mF\u001b[49m\u001b[38;5;241;43m.\u001b[39;49m\u001b[43mdropout\u001b[49m\u001b[43m(\u001b[49m\u001b[38;5;28;43minput\u001b[39;49m\u001b[43m,\u001b[49m\u001b[43m \u001b[49m\u001b[38;5;28;43mself\u001b[39;49m\u001b[38;5;241;43m.\u001b[39;49m\u001b[43mp\u001b[49m\u001b[43m,\u001b[49m\u001b[43m \u001b[49m\u001b[38;5;28;43mself\u001b[39;49m\u001b[38;5;241;43m.\u001b[39;49m\u001b[43mtraining\u001b[49m\u001b[43m,\u001b[49m\u001b[43m \u001b[49m\u001b[38;5;28;43mself\u001b[39;49m\u001b[38;5;241;43m.\u001b[39;49m\u001b[43minplace\u001b[49m\u001b[43m)\u001b[49m\n",
            "File \u001b[0;32m~/opt/anaconda3/lib/python3.9/site-packages/torch/nn/functional.py:1252\u001b[0m, in \u001b[0;36mdropout\u001b[0;34m(input, p, training, inplace)\u001b[0m\n\u001b[1;32m   1250\u001b[0m \u001b[38;5;28;01mif\u001b[39;00m p \u001b[38;5;241m<\u001b[39m \u001b[38;5;241m0.0\u001b[39m \u001b[38;5;129;01mor\u001b[39;00m p \u001b[38;5;241m>\u001b[39m \u001b[38;5;241m1.0\u001b[39m:\n\u001b[1;32m   1251\u001b[0m     \u001b[38;5;28;01mraise\u001b[39;00m \u001b[38;5;167;01mValueError\u001b[39;00m(\u001b[38;5;124m\"\u001b[39m\u001b[38;5;124mdropout probability has to be between 0 and 1, \u001b[39m\u001b[38;5;124m\"\u001b[39m \u001b[38;5;124m\"\u001b[39m\u001b[38;5;124mbut got \u001b[39m\u001b[38;5;132;01m{}\u001b[39;00m\u001b[38;5;124m\"\u001b[39m\u001b[38;5;241m.\u001b[39mformat(p))\n\u001b[0;32m-> 1252\u001b[0m \u001b[38;5;28;01mreturn\u001b[39;00m _VF\u001b[38;5;241m.\u001b[39mdropout_(\u001b[38;5;28minput\u001b[39m, p, training) \u001b[38;5;28;01mif\u001b[39;00m inplace \u001b[38;5;28;01melse\u001b[39;00m \u001b[43m_VF\u001b[49m\u001b[38;5;241;43m.\u001b[39;49m\u001b[43mdropout\u001b[49m\u001b[43m(\u001b[49m\u001b[38;5;28;43minput\u001b[39;49m\u001b[43m,\u001b[49m\u001b[43m \u001b[49m\u001b[43mp\u001b[49m\u001b[43m,\u001b[49m\u001b[43m \u001b[49m\u001b[43mtraining\u001b[49m\u001b[43m)\u001b[49m\n",
            "\u001b[0;31mKeyboardInterrupt\u001b[0m: "
          ]
        }
      ],
      "source": [
        "classifier.train()"
      ]
    },
    {
      "cell_type": "markdown",
      "metadata": {
        "id": "yPqZPcTmFTSd"
      },
      "source": [
        "Check test data"
      ]
    },
    {
      "cell_type": "code",
      "execution_count": null,
      "metadata": {},
      "outputs": [],
      "source": [
        "classifier = BertClassifier(\n",
        "        model_path='cointegrated/rubert-tiny',\n",
        "        tokenizer_path='cointegrated/rubert-tiny',\n",
        "        n_classes=2,\n",
        "        epochs=6,\n",
        "        model_save_path='/content/bert.pt'\n",
        ")\n",
        "\n",
        "def classify(mas):\n",
        "\n",
        "    for img in mas:\n",
        "        "
      ]
    },
    {
      "cell_type": "code",
      "execution_count": 12,
      "metadata": {},
      "outputs": [],
      "source": [
        "testing = shuffled_df2.iloc[:int(0.15 * len(shuffled_df))]"
      ]
    },
    {
      "cell_type": "code",
      "execution_count": 13,
      "metadata": {
        "id": "B1jAxkTkBEMv"
      },
      "outputs": [],
      "source": [
        "texts = list(testing['0'])\n",
        "labels = list(testing['target'])\n",
        "\n",
        "predictions = [classifier.predict(t) for t in texts]"
      ]
    },
    {
      "cell_type": "code",
      "execution_count": 15,
      "metadata": {
        "colab": {
          "base_uri": "https://localhost:8080/"
        },
        "id": "xhJosdy6Bn0o",
        "outputId": "ee1d404c-bf42-4371-e884-25671d65e429"
      },
      "outputs": [
        {
          "name": "stdout",
          "output_type": "stream",
          "text": [
            "precision: 0.9752773268398268, recall: 0.9726398278007601, f1score: 0.9737496522714053\n"
          ]
        }
      ],
      "source": [
        "from sklearn.metrics import precision_recall_fscore_support\n",
        "\n",
        "precision, recall, f1score = precision_recall_fscore_support(labels, predictions,average='macro')[:3]\n",
        "\n",
        "print(f'precision: {precision}, recall: {recall}, f1score: {f1score}')"
      ]
    }
  ],
  "metadata": {
    "accelerator": "GPU",
    "colab": {
      "provenance": []
    },
    "kernelspec": {
      "display_name": "Python 3",
      "name": "python3"
    },
    "language_info": {
      "codemirror_mode": {
        "name": "ipython",
        "version": 3
      },
      "file_extension": ".py",
      "mimetype": "text/x-python",
      "name": "python",
      "nbconvert_exporter": "python",
      "pygments_lexer": "ipython3",
      "version": "3.9.12"
    }
  },
  "nbformat": 4,
  "nbformat_minor": 0
}
